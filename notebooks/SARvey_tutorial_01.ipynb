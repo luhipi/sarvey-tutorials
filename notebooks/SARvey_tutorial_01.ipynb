{
 "cells": [
  {
   "cell_type": "markdown",
   "metadata": {
    "editable": false,
    "jp-MarkdownHeadingCollapsed": true,
    "slideshow": {
     "slide_type": ""
    },
    "tags": []
   },
   "source": [
    "## SARvey - survey with SAR "
   ]
  },
  {
   "attachments": {},
   "cell_type": "markdown",
   "metadata": {
    "deletable": false,
    "editable": false,
    "id": "KCeJMObAJRq8",
    "jp-MarkdownHeadingCollapsed": true,
    "slideshow": {
     "slide_type": "slide"
    },
    "tags": []
   },
   "source": [
    "---\n",
    "<img src=\"https://seafile.projekt.uni-hannover.de/f/69eac9bb5f86400fa1ad/?dl=1\" width=\"512\">\n",
    "\n",
    "\n",
    "**SARvey** is an open-source software developed for the analysis of Interferometric Synthetic Aperture Radar (InSAR) displacement time series, particularly tailored for engineering applications. It offers a comprehensive workflow to process and analyze Synthetic Aperture Radar (SAR) data, enabling users to monitor and assess ground deformations with high precision.\n",
    "\n",
    "For more information, visit the following:\n",
    "* **[SARvey GitHub Repository](https://github.com/luhipi/sarvey)**\n",
    "* **[SARvey Documentation](https://luhipi.github.io/sarvey/docs/)**\n",
    "* **[How to cite SARvey](https://sarvey.readthedocs.io/main/readme.html#how-to-cite/)**\n",
    "\n",
    "---\n",
    "\n",
    "This tutorial covers the SARvey processing steps for a sample dataset, as a practical example to demonstrate its main capabilities.\n",
    "\n",
    "---\n",
    "\n",
    "*This tutorial is prepared by **[Mahmud Haghighi](https://www.ipi.uni-hannover.de/en/haghighi/)** from the Institute of Photogrammetry and GeoInformation, Leibniz University Hannover.*\n",
    "\n"
   ]
  },
  {
   "cell_type": "markdown",
   "metadata": {
    "editable": false,
    "slideshow": {
     "slide_type": ""
    },
    "tags": []
   },
   "source": [
    "### SARvey workflow"
   ]
  },
  {
   "attachments": {},
   "cell_type": "markdown",
   "metadata": {
    "editable": false,
    "slideshow": {
     "slide_type": "subslide"
    },
    "tags": []
   },
   "source": [
    "**TODO: add short description**\n",
    "<img src=\"https://seafile.projekt.uni-hannover.de/f/006f702937cd4e618bcb/?dl=1\" width=\"512\">\n",
    "\n",
    "\n"
   ]
  },
  {
   "cell_type": "markdown",
   "metadata": {
    "editable": false,
    "jp-MarkdownHeadingCollapsed": true,
    "slideshow": {
     "slide_type": ""
    },
    "tags": []
   },
   "source": [
    "**TODO: add short description**\n",
    "<img src=\"https://seafile.projekt.uni-hannover.de/f/39209355cabc4607bf0a/?dl=1\" width=\"512\">\n"
   ]
  },
  {
   "cell_type": "markdown",
   "metadata": {
    "editable": false,
    "slideshow": {
     "slide_type": ""
    },
    "tags": []
   },
   "source": [
    "### Before we start"
   ]
  },
  {
   "cell_type": "markdown",
   "metadata": {
    "editable": false,
    "jp-MarkdownHeadingCollapsed": true,
    "slideshow": {
     "slide_type": ""
    },
    "tags": []
   },
   "source": [
    "This tutorial uses Jupyter Notebook syntax. Here are a few helpful things to know before running the cells:\n",
    "\n",
    "- `!` at the beginning of a line is used to run shell (terminal) commands directly from the notebook. For example:\n",
    "    - `!ls` — lists files in the current directory\n",
    "    - `!pwd` — prints the current working directory\n",
    "    - `!cd directory_name` — changes the directory (note: cd won't persist across cells unless handled carefully)\n",
    "    - `!mkdir new_folder` — creates a new directory\n",
    "    - `!pip install sarvey` — installs the sarvey package\n",
    "    - `!sarvey -h` — displays the help message for the sarvey command-line interface.\n",
    "\n",
    "**Note**: You do not need the `!` if you are running these commands directly in a terminal (outside of Notebook).\n",
    "\n"
   ]
  },
  {
   "cell_type": "markdown",
   "metadata": {
    "editable": false,
    "jp-MarkdownHeadingCollapsed": true,
    "slideshow": {
     "slide_type": ""
    },
    "tags": []
   },
   "source": [
    "## Installation"
   ]
  },
  {
   "cell_type": "markdown",
   "metadata": {
    "editable": false,
    "slideshow": {
     "slide_type": ""
    },
    "tags": []
   },
   "source": [
    "SARvey is a cross-platform python-based software and can be installed on Linux, MacOS and Windows. If you are installing SARvey on your local machine, you can refer to the **[SARvey Installation](https://sarvey.readthedocs.io/main/installation.html#installation)**.\n",
    "\n",
    "SARvey depends on other open-source software and python packages. Most of dependencies, including *MintPy* are integrated into SARvey installation and will be installed with a simple `pip` command. pip is the package installer for Python. Before installing **SARvey**, we need to install *MiaplPy* separately."
   ]
  },
  {
   "cell_type": "markdown",
   "metadata": {
    "editable": false,
    "slideshow": {
     "slide_type": ""
    },
    "tags": []
   },
   "source": [
    "Run the following cell to install **MiaplPy**. This cell will use `pip` for the installation. Note the exclamation mark (!) at the beginning of the command."
   ]
  },
  {
   "cell_type": "code",
   "execution_count": null,
   "metadata": {
    "editable": false,
    "slideshow": {
     "slide_type": ""
    },
    "tags": []
   },
   "outputs": [],
   "source": [
    "!pip install git+https://github.com/insarlab/MiaplPy.git --quiet"
   ]
  },
  {
   "cell_type": "markdown",
   "metadata": {
    "editable": false,
    "slideshow": {
     "slide_type": ""
    },
    "tags": []
   },
   "source": [
    "Run the following cell to install **SARvey** along with its required dependencies. These include **MintPy** and several other open-source packages that SARvey relies on to function properly."
   ]
  },
  {
   "cell_type": "code",
   "execution_count": null,
   "metadata": {
    "editable": false,
    "slideshow": {
     "slide_type": ""
    },
    "tags": []
   },
   "outputs": [],
   "source": [
    "!pip install git+https://github.com/luhipi/sarvey --quiet"
   ]
  },
  {
   "cell_type": "markdown",
   "metadata": {
    "editable": false,
    "slideshow": {
     "slide_type": ""
    },
    "tags": []
   },
   "source": [
    "After installation, run the following cells to verify that **MiaplPy**, **MintPy** and **SARvey** are installed correctly.\n",
    "\n",
    "If the installation is successful, you will see the usage prompt for each software.\n",
    "```\n",
    "usage: miaplpyApp [-h] [--dir WORKDIR] [-g] [-H] [-v] [--walltime WALL_TIME]\n",
    "\n",
    "\n",
    "```\n",
    "\n",
    "If you encounter errors like the one below, it indicates that the software is not installed properly:\n",
    "\n",
    "```\n",
    "ERROR: unknown command \"miaplpyApp\"\n",
    "```"
   ]
  },
  {
   "cell_type": "code",
   "execution_count": null,
   "metadata": {
    "editable": false,
    "slideshow": {
     "slide_type": ""
    },
    "tags": []
   },
   "outputs": [],
   "source": [
    "!miaplpyApp"
   ]
  },
  {
   "cell_type": "code",
   "execution_count": null,
   "metadata": {
    "editable": false,
    "slideshow": {
     "slide_type": ""
    },
    "tags": []
   },
   "outputs": [],
   "source": [
    "!mintpy -h"
   ]
  },
  {
   "cell_type": "code",
   "execution_count": null,
   "metadata": {
    "editable": false,
    "slideshow": {
     "slide_type": ""
    },
    "tags": []
   },
   "outputs": [],
   "source": [
    "!sarvey -h"
   ]
  },
  {
   "cell_type": "markdown",
   "metadata": {
    "editable": true,
    "slideshow": {
     "slide_type": ""
    },
    "tags": []
   },
   "source": [
    "## Download data"
   ]
  },
  {
   "cell_type": "markdown",
   "metadata": {
    "editable": true,
    "slideshow": {
     "slide_type": ""
    },
    "tags": []
   },
   "source": []
  }
 ],
 "metadata": {
  "colab": {
   "provenance": []
  },
  "kernelspec": {
   "display_name": "Python 3 (ipykernel)",
   "language": "python",
   "name": "python3"
  },
  "language_info": {
   "codemirror_mode": {
    "name": "ipython",
    "version": 3
   },
   "file_extension": ".py",
   "mimetype": "text/x-python",
   "name": "python",
   "nbconvert_exporter": "python",
   "pygments_lexer": "ipython3",
   "version": "3.12.2"
  }
 },
 "nbformat": 4,
 "nbformat_minor": 4
}
