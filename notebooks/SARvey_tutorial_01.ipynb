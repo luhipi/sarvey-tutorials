{
 "cells": [
  {
   "cell_type": "markdown",
   "metadata": {
    "editable": false,
    "jp-MarkdownHeadingCollapsed": true,
    "slideshow": {
     "slide_type": ""
    },
    "tags": []
   },
   "source": [
    "## SARvey - survey with SAR "
   ]
  },
  {
   "attachments": {},
   "cell_type": "markdown",
   "metadata": {
    "deletable": false,
    "editable": false,
    "id": "KCeJMObAJRq8",
    "jp-MarkdownHeadingCollapsed": true,
    "slideshow": {
     "slide_type": "slide"
    },
    "tags": []
   },
   "source": [
    "---\n",
    "<img src=\"https://seafile.projekt.uni-hannover.de/f/69eac9bb5f86400fa1ad/?dl=1\" width=\"512\">\n",
    "\n",
    "\n",
    "**SARvey** is an open-source software developed for the analysis of Interferometric Synthetic Aperture Radar (InSAR) displacement time series, particularly tailored for engineering applications. It offers a comprehensive workflow to process and analyze Synthetic Aperture Radar (SAR) data, enabling users to monitor and assess ground deformations with high precision.\n",
    "\n",
    "For more information, visit the following:\n",
    "* **[SARvey GitHub Repository](https://github.com/luhipi/sarvey)**\n",
    "* **[SARvey Documentation](https://sarvey.readthedocs.io/)**\n",
    "* **[How to cite SARvey](https://sarvey.readthedocs.io/main/readme.html#how-to-cite/)**\n",
    "\n",
    "---\n",
    "\n",
    "This tutorial covers the SARvey processing steps for a sample dataset, as a practical example to demonstrate its main capabilities.\n",
    "\n",
    "---\n",
    "\n",
    "*This tutorial is prepared by **[Mahmud Haghighi](https://www.ipi.uni-hannover.de/en/haghighi/)** from the Institute of Photogrammetry and GeoInformation, Leibniz University Hannover.*\n",
    "\n"
   ]
  },
  {
   "cell_type": "markdown",
   "metadata": {
    "editable": false,
    "slideshow": {
     "slide_type": ""
    },
    "tags": []
   },
   "source": [
    "### SARvey workflow"
   ]
  },
  {
   "attachments": {},
   "cell_type": "markdown",
   "metadata": {
    "editable": false,
    "slideshow": {
     "slide_type": "subslide"
    },
    "tags": []
   },
   "source": [
    "**TODO: add short description**\n",
    "<img src=\"https://seafile.projekt.uni-hannover.de/f/006f702937cd4e618bcb/?dl=1\" width=\"512\">\n",
    "\n",
    "\n"
   ]
  },
  {
   "cell_type": "markdown",
   "metadata": {
    "editable": false,
    "jp-MarkdownHeadingCollapsed": true,
    "slideshow": {
     "slide_type": ""
    },
    "tags": []
   },
   "source": [
    "**TODO: add short description**\n",
    "<img src=\"https://seafile.projekt.uni-hannover.de/f/39209355cabc4607bf0a/?dl=1\" width=\"512\">\n"
   ]
  },
  {
   "cell_type": "markdown",
   "metadata": {
    "editable": false,
    "slideshow": {
     "slide_type": ""
    },
    "tags": []
   },
   "source": [
    "### Before we start"
   ]
  },
  {
   "cell_type": "markdown",
   "metadata": {
    "editable": false,
    "jp-MarkdownHeadingCollapsed": true,
    "slideshow": {
     "slide_type": ""
    },
    "tags": []
   },
   "source": [
    "This tutorial uses Jupyter Notebook syntax. Here are a few helpful things to know before running the cells:\n",
    "\n",
    "- `!` at the beginning of a line is used to run shell (terminal) commands directly from the notebook. For example:\n",
    "    - `!ls` — lists files in the current directory\n",
    "    - `!pwd` — prints the current working directory\n",
    "    - `!cd directory_name` — changes the directory (note: cd won't persist across cells unless handled carefully)\n",
    "    - `!mkdir new_folder` — creates a new directory\n",
    "    - `!pip install sarvey` — installs the sarvey package\n",
    "    - `!sarvey -h` — displays the help message for the sarvey command-line interface.\n",
    "\n",
    "**Note**: You do not need the `!` if you are running these commands directly in a terminal (outside of Notebook).\n",
    "\n"
   ]
  },
  {
   "cell_type": "markdown",
   "metadata": {
    "editable": false,
    "jp-MarkdownHeadingCollapsed": true,
    "slideshow": {
     "slide_type": ""
    },
    "tags": []
   },
   "source": [
    "## Installation"
   ]
  },
  {
   "cell_type": "markdown",
   "metadata": {
    "editable": false,
    "slideshow": {
     "slide_type": ""
    },
    "tags": []
   },
   "source": [
    "SARvey is a cross-platform python-based software and can be installed on Linux, MacOS and Windows. If you are installing SARvey on your local machine, you can refer to the **[SARvey Installation](https://sarvey.readthedocs.io/main/installation.html#installation)**.\n",
    "\n",
    "SARvey depends on other open-source software and python packages. Most of dependencies, including *MintPy* are integrated into SARvey installation and will be installed with a simple `pip` command. pip is the package installer for Python. Before installing **SARvey**, we need to install *MiaplPy* separately."
   ]
  },
  {
   "cell_type": "markdown",
   "metadata": {
    "editable": false,
    "slideshow": {
     "slide_type": ""
    },
    "tags": []
   },
   "source": [
    "Run the following cell to install **MiaplPy**. This cell will use `pip` for the installation. Note the exclamation mark (!) at the beginning of the command."
   ]
  },
  {
   "cell_type": "code",
   "execution_count": null,
   "metadata": {
    "editable": false,
    "slideshow": {
     "slide_type": ""
    },
    "tags": []
   },
   "outputs": [],
   "source": [
    "!pip install git+https://github.com/insarlab/MiaplPy.git --quiet"
   ]
  },
  {
   "cell_type": "markdown",
   "metadata": {
    "editable": false,
    "slideshow": {
     "slide_type": ""
    },
    "tags": []
   },
   "source": [
    "Run the following cell to install **SARvey** along with its required dependencies. These include **MintPy** and several other open-source packages that SARvey relies on to function properly."
   ]
  },
  {
   "cell_type": "code",
   "execution_count": null,
   "metadata": {
    "editable": false,
    "slideshow": {
     "slide_type": ""
    },
    "tags": []
   },
   "outputs": [],
   "source": [
    "!pip install git+https://github.com/luhipi/sarvey --quiet"
   ]
  },
  {
   "cell_type": "markdown",
   "metadata": {
    "editable": false,
    "slideshow": {
     "slide_type": ""
    },
    "tags": []
   },
   "source": [
    "After installation, run the following cells to verify that **MiaplPy**, **MintPy** and **SARvey** are installed correctly.\n",
    "\n",
    "If the installation is successful, you will see the usage prompt for each software.\n",
    "```\n",
    "usage: miaplpyApp [-h] [--dir WORKDIR] [-g] [-H] [-v] [--walltime WALL_TIME]\n",
    "\n",
    "\n",
    "```\n",
    "\n",
    "If you encounter errors like the one below, it indicates that the software is not installed properly:\n",
    "\n",
    "```\n",
    "ERROR: unknown command \"miaplpyApp\"\n",
    "```"
   ]
  },
  {
   "cell_type": "code",
   "execution_count": null,
   "metadata": {
    "editable": false,
    "slideshow": {
     "slide_type": ""
    },
    "tags": []
   },
   "outputs": [],
   "source": [
    "!miaplpyApp"
   ]
  },
  {
   "cell_type": "code",
   "execution_count": null,
   "metadata": {
    "editable": false,
    "slideshow": {
     "slide_type": ""
    },
    "tags": []
   },
   "outputs": [],
   "source": [
    "!mintpy -h"
   ]
  },
  {
   "cell_type": "code",
   "execution_count": null,
   "metadata": {
    "editable": false,
    "slideshow": {
     "slide_type": ""
    },
    "tags": []
   },
   "outputs": [],
   "source": [
    "!sarvey -h"
   ]
  },
  {
   "cell_type": "markdown",
   "metadata": {
    "editable": false,
    "slideshow": {
     "slide_type": ""
    },
    "tags": []
   },
   "source": [
    "## Imports"
   ]
  },
  {
   "cell_type": "markdown",
   "metadata": {
    "editable": false,
    "slideshow": {
     "slide_type": ""
    },
    "tags": []
   },
   "source": [
    "Install additional packages required for this tutorial."
   ]
  },
  {
   "cell_type": "code",
   "execution_count": null,
   "metadata": {
    "editable": false,
    "slideshow": {
     "slide_type": ""
    },
    "tags": []
   },
   "outputs": [],
   "source": [
    "# install tree\n",
    "!apt-get -qq install tree"
   ]
  },
  {
   "cell_type": "markdown",
   "metadata": {
    "editable": false,
    "slideshow": {
     "slide_type": ""
    },
    "tags": []
   },
   "source": [
    "Imports essential Python libraries required for this tutorial."
   ]
  },
  {
   "cell_type": "code",
   "execution_count": null,
   "metadata": {
    "editable": false,
    "scrolled": true,
    "slideshow": {
     "slide_type": ""
    },
    "tags": []
   },
   "outputs": [],
   "source": [
    "import os\n",
    "from IPython.display import display, Image, JSON, Markdown\n",
    "from matplotlib import pyplot as plt\n",
    "import numpy as np\n",
    "import h5py as h5\n",
    "import json5 as json"
   ]
  },
  {
   "cell_type": "markdown",
   "metadata": {
    "editable": false,
    "slideshow": {
     "slide_type": ""
    },
    "tags": []
   },
   "source": [
    "## Download data"
   ]
  },
  {
   "cell_type": "markdown",
   "metadata": {
    "editable": false,
    "slideshow": {
     "slide_type": ""
    },
    "tags": []
   },
   "source": [
    "**Background**\n",
    "\n",
    "<img src=\"https://mis-dam.ir/wp-content/uploads/2024/07/5492382.jpg\" width=\"256\">\n",
    "Image from: *mis-dam.ir*\n",
    "\n",
    "---\n",
    "\n",
    "This tutorial focuses on measuring the post-construction settlement of **Masjed Soleyman Dam**. It is a rock-fill dam on the Karun river, opened in 2002. Previous investigations using GNSS and high-resolution TerraSAR-X data, have shown substantial post-construction settlement of the dam. TerraSAR-X results show that the dam undergoes a maximum deformation rate of 13 cm/year in the radar line-of-sight. In this tutorial, we will use Sentinel-1 data to retrieve the deformation of the dam ([Emadali, Motagh & Haghighi, 2017](https://www.sciencedirect.com/science/article/pii/S0141029617311525)).\n",
    "\n",
    "---\n",
    "\n",
    "**TerraSAR-X** SpotLight interferograms in descending orbit show progressive displacement relative to the reference image on 7 March 2014. One full colour cycle corresponds to 3.1 cm of LOS motion. Red rectangle delineates deformation area related to the crest, marked with dashed black line, and its adjacent area downstream.\n",
    "\n",
    "<img src=\"https://ars.els-cdn.com/content/image/1-s2.0-S0141029617311525-gr8.jpg\" width=\"512\">\n",
    "\n",
    "---\n",
    "\n",
    "Average 2014–2015 LOS displacement rate from TerraSAR-X SpotLight data overlaid on a Google Earth™ image.\n",
    "\n",
    "\n",
    "<img src=\"https://ars.els-cdn.com/content/image/1-s2.0-S0141029617311525-gr10.jpg\" width=\"512\">"
   ]
  },
  {
   "cell_type": "markdown",
   "metadata": {
    "editable": false,
    "slideshow": {
     "slide_type": ""
    },
    "tags": []
   },
   "source": [
    "**Demo Dataset**: Masjed Soleyman Dam\n",
    "\n",
    "**Dataset Highlights:**\n",
    "- **Location:** Masjed Soleyman Dam, Iran\n",
    "- **Sensor:** Sentinel-1\n",
    "- **Number of images:** 291\n",
    "- **Temporal interval:** 2015.01.05-2022.03.17\n",
    "- **Data Type:** Coregistered stack of SLCs with corresponding geometry information\n",
    "\n",
    "---"
   ]
  },
  {
   "cell_type": "markdown",
   "metadata": {
    "editable": false,
    "slideshow": {
     "slide_type": ""
    },
    "tags": []
   },
   "source": [
    "Specify the working directory. \n",
    "On **Google Colab**, the working directory should be\n",
    "```\n",
    "work_dir = '/content'\n",
    "```"
   ]
  },
  {
   "cell_type": "code",
   "execution_count": null,
   "metadata": {
    "editable": false,
    "slideshow": {
     "slide_type": ""
    },
    "tags": []
   },
   "outputs": [],
   "source": [
    "# specify working directory. On Google Colab it should be '/content'\n",
    "work_dir = '/content'"
   ]
  },
  {
   "cell_type": "markdown",
   "metadata": {
    "editable": false,
    "slideshow": {
     "slide_type": ""
    },
    "tags": []
   },
   "source": [
    "Run the following cell to downloat the data and unzip it."
   ]
  },
  {
   "cell_type": "code",
   "execution_count": null,
   "metadata": {
    "editable": false,
    "slideshow": {
     "slide_type": ""
    },
    "tags": []
   },
   "outputs": [],
   "source": [
    "# Change the directory\n",
    "os.chdir(work_dir)\n",
    "\n",
    "# Download data\n",
    "!wget  -N https://seafile.cloud.uni-hannover.de/f/6bf916a2fba6404ab439/?dl=1  -O Masjed_Soleyman_Dam_S1_dsc_2015_2022.zip\n",
    "\n",
    "# Unzip data into masjed_s1 directory\n",
    "!unzip -q -o Masjed_Soleyman_Dam_S1_dsc_2015_2022.zip\n",
    "\n",
    "# Rename the extracted folder\n",
    "!mv Masjed_Soleyman_Dam_S1_dsc_2015_2022 masjed_s1\n",
    "\n",
    "# Define the project directory path as a variable\n",
    "project_dir=os.path.join(work_dir, 'masjed_s1')\n"
   ]
  },
  {
   "cell_type": "markdown",
   "metadata": {
    "editable": false,
    "slideshow": {
     "slide_type": ""
    },
    "tags": []
   },
   "source": [
    "## Check the input data"
   ]
  },
  {
   "cell_type": "markdown",
   "metadata": {
    "editable": false,
    "slideshow": {
     "slide_type": ""
    },
    "tags": []
   },
   "source": [
    "A typical directory structure to run SARvey looks like the following:\n",
    "```\n",
    "📂 project_folder/\n",
    "  │── 📁 inputs/               # SARvey inputs\n",
    "  │     ├── slcStack.h5        # stack of resampled SLCs\n",
    "  │     └── geometryRadar.h5   # geometry in Radar coordinates\n",
    "  ├── 📁 outputs/              # SARvey outputs\n",
    "  └── 📄 config.json           # SARvey processing configuration\n",
    "```\n",
    "\n",
    "The input to SARvey are the `slcStack.h5` and `geometryRadar.h5`.\n"
   ]
  },
  {
   "cell_type": "markdown",
   "metadata": {
    "editable": false,
    "slideshow": {
     "slide_type": ""
    },
    "tags": []
   },
   "source": [
    "Let's check the directory structure of the downloaded data using `tree` command."
   ]
  },
  {
   "cell_type": "code",
   "execution_count": null,
   "metadata": {
    "editable": false,
    "slideshow": {
     "slide_type": ""
    },
    "tags": []
   },
   "outputs": [],
   "source": [
    "# Navigate to the project directory\n",
    "os.chdir(project_dir)\n",
    "\n",
    "# Display the directory structure in a tree-like format\n",
    "!tree\n"
   ]
  },
  {
   "cell_type": "markdown",
   "metadata": {
    "editable": false,
    "slideshow": {
     "slide_type": ""
    },
    "tags": []
   },
   "source": [
    "***\n",
    "It is a good practice to use MintPy `info.py` functions to verify the metadata of the input files before starting the SARvey processing. "
   ]
  },
  {
   "cell_type": "code",
   "execution_count": null,
   "metadata": {
    "editable": false,
    "slideshow": {
     "slide_type": ""
    },
    "tags": []
   },
   "outputs": [],
   "source": [
    "## Navigate to the input directory\n",
    "os.chdir(project_dir+'/inputs')\n",
    "\n",
    "# Display metadata and structure of the 'geometryRadar.h5' file\n",
    "!info.py geometryRadar.h5\n"
   ]
  },
  {
   "cell_type": "code",
   "execution_count": null,
   "metadata": {
    "editable": false,
    "slideshow": {
     "slide_type": ""
    },
    "tags": []
   },
   "outputs": [],
   "source": [
    "## Navigate to the input directory\n",
    "os.chdir(project_dir+'/inputs')\n",
    "\n",
    "# Display metadata and structure of the 'slcStack.h5' file\n",
    "!info.py slcStack.h5\n"
   ]
  },
  {
   "cell_type": "markdown",
   "metadata": {
    "editable": false,
    "slideshow": {
     "slide_type": ""
    },
    "tags": []
   },
   "source": [
    "There are more information that you can get using `info.py`. For example:"
   ]
  },
  {
   "cell_type": "code",
   "execution_count": null,
   "metadata": {
    "editable": false,
    "slideshow": {
     "slide_type": ""
    },
    "tags": []
   },
   "outputs": [],
   "source": [
    "## Navigate to the input directory\n",
    "os.chdir(project_dir+'/inputs')\n",
    "\n",
    "# show a list of SLC dates with numbers\n",
    "!info.py slcStack.h5 --num\n"
   ]
  },
  {
   "cell_type": "markdown",
   "metadata": {
    "editable": false,
    "slideshow": {
     "slide_type": ""
    },
    "tags": []
   },
   "source": [
    "***\n",
    "You can also use MintPy `view.py` functions to visualize the input fles before starting the SARvey processing. "
   ]
  },
  {
   "cell_type": "code",
   "execution_count": null,
   "metadata": {
    "editable": false,
    "slideshow": {
     "slide_type": ""
    },
    "tags": []
   },
   "outputs": [],
   "source": [
    "## Navigate to the input directory\n",
    "os.chdir(project_dir+'/inputs')\n",
    "\n",
    "# Use the view.py command to create geometryRadar.png\n",
    "!view.py geometryRadar.h5 --save --noverbose --update\n",
    "\n",
    "# Show the image in notebook\n",
    "Image(filename='geometryRadar.png')"
   ]
  },
  {
   "cell_type": "markdown",
   "metadata": {
    "editable": false,
    "slideshow": {
     "slide_type": ""
    },
    "tags": []
   },
   "source": [
    "Instead of using `view.py` you can use the view from mintpy.cli if you are an experienced user\n",
    "\n",
    "```\n",
    "# Import view\n",
    "from mintpy.cli import view\n",
    "\n",
    "# Create geometryRadar.png\n",
    "view.main('geometryRadar.h5 --save --noverbose'.split())\n",
    "\n",
    "# Show the image in notebook\n",
    "Image(filename='geometryRadar.png')\n",
    "```"
   ]
  },
  {
   "cell_type": "markdown",
   "metadata": {
    "editable": false,
    "slideshow": {
     "slide_type": ""
    },
    "tags": []
   },
   "source": [
    "`view.py` can also be used to show the amplitudes from the slcStack, but it might be time-consuming, depending on the data size"
   ]
  },
  {
   "cell_type": "markdown",
   "metadata": {
    "editable": false,
    "slideshow": {
     "slide_type": ""
    },
    "tags": []
   },
   "source": [
    "***\n",
    "Both input files are in HDF5 format and can be examined using a simple script with the `h5py` library. First, we define `showMeanAmplitude()` function to extract mean amplitude of first 25 images in slcStack.h5 and then call the function."
   ]
  },
  {
   "cell_type": "code",
   "execution_count": null,
   "metadata": {
    "editable": false,
    "slideshow": {
     "slide_type": ""
    },
    "tags": []
   },
   "outputs": [],
   "source": [
    "def showMeanAmplitude(slc_file='inputs/slcStack.h5', n=25):\n",
    "    # Open the HDF5 file containing the SLC stack\n",
    "    with h5.File(slc_file, 'r') as f:\n",
    "        if n>=f['slc'].shape[0]:\n",
    "            print(f'Image index {n} exceeds the number of available images.')\n",
    "            return\n",
    "        # Extract the image 0 to n from the stack\n",
    "        slc_stack = f['slc'][0:n,:,:]\n",
    "\n",
    "    # Compute mean amplitude of the complex SLC image\n",
    "    slc_amp = np.mean(np.abs(slc_stack), axis=0)\n",
    "    \n",
    "    plt.figure(figsize=(20,3))\n",
    "    plt.imshow(np.log10(slc_amp), cmap='gray')\n",
    "    plt.xlabel('[Range]')\n",
    "    plt.ylabel('[Azimuth]')\n",
    "    plt.title(f'Mean Amplitude of image 0-{n} in dB')\n",
    "    plt.colorbar()\n",
    "    plt.show()\n"
   ]
  },
  {
   "cell_type": "code",
   "execution_count": null,
   "metadata": {
    "editable": false,
    "slideshow": {
     "slide_type": ""
    },
    "tags": []
   },
   "outputs": [],
   "source": [
    "os.chdir(project_dir)\n",
    "\n",
    "showMeanAmplitude()"
   ]
  },
  {
   "cell_type": "markdown",
   "metadata": {
    "editable": false,
    "slideshow": {
     "slide_type": ""
    },
    "tags": []
   },
   "source": [
    "## Start SARvey processing"
   ]
  },
  {
   "cell_type": "markdown",
   "metadata": {
    "editable": false,
    "slideshow": {
     "slide_type": ""
    },
    "tags": []
   },
   "source": [
    "We first run **`sarvey -h`** to see the quick help. Please also refer to the full documentation to see the details of processing."
   ]
  },
  {
   "cell_type": "code",
   "execution_count": null,
   "metadata": {
    "editable": false,
    "slideshow": {
     "slide_type": ""
    },
    "tags": []
   },
   "outputs": [],
   "source": [
    "! sarvey -h"
   ]
  },
  {
   "cell_type": "markdown",
   "metadata": {
    "editable": false,
    "slideshow": {
     "slide_type": ""
    },
    "tags": []
   },
   "source": [
    "#### Generate config file"
   ]
  },
  {
   "cell_type": "markdown",
   "metadata": {
    "editable": false,
    "slideshow": {
     "slide_type": ""
    },
    "tags": []
   },
   "source": [
    "The first step in the processing workflow is to generate the configuration file using the command:\n",
    "\n",
    "**```sarvey -f config.json 0 0 -g```**\n",
    "\n",
    "The **`-g`** flag instructs SARvey to generate a default config.json file. Although the command includes **`0 0`** as step indices, no processing steps will actually be executed when **`-g`** is used. Instead, the command will only create the configuration file.\n"
   ]
  },
  {
   "cell_type": "code",
   "execution_count": null,
   "metadata": {
    "editable": false,
    "slideshow": {
     "slide_type": ""
    },
    "tags": []
   },
   "outputs": [],
   "source": [
    "os.chdir(project_dir)\n",
    "\n",
    "! sarvey -f config.json 0 0 -g"
   ]
  },
  {
   "cell_type": "markdown",
   "metadata": {
    "editable": false,
    "slideshow": {
     "slide_type": ""
    },
    "tags": []
   },
   "source": [
    "List the directory contents to confirm that **config.json** was successfully created."
   ]
  },
  {
   "cell_type": "code",
   "execution_count": null,
   "metadata": {
    "editable": false,
    "slideshow": {
     "slide_type": ""
    },
    "tags": []
   },
   "outputs": [],
   "source": [
    "! tree"
   ]
  },
  {
   "cell_type": "markdown",
   "metadata": {
    "editable": false,
    "slideshow": {
     "slide_type": ""
    },
    "tags": []
   },
   "source": [
    "We can open the **config.json** file in a text editor to adjust the processing parameters before starting the SARvey workflow. Alternatively, we can read and modify the file programmatically using Python.\n"
   ]
  },
  {
   "cell_type": "markdown",
   "metadata": {
    "editable": false,
    "slideshow": {
     "slide_type": ""
    },
    "tags": []
   },
   "source": [
    "***\n",
    "we define `loadJsonConfig()` and `dumpToJsonConfig()` functions to read and modify the config file."
   ]
  },
  {
   "cell_type": "code",
   "execution_count": null,
   "metadata": {
    "editable": false,
    "slideshow": {
     "slide_type": ""
    },
    "tags": []
   },
   "outputs": [],
   "source": [
    "def loadJsonConfig(config_file):\n",
    "    # Load the contents of config_file into a Python dictionary\n",
    "    with open('config.json', 'r') as f:\n",
    "        config_dict = json.load(f)\n",
    "    return config_dict\n",
    "\n",
    "def dumpToJsonConfig(config_file, config_dict):\n",
    "    # Write the config_dict to config_file\n",
    "    with open(config_file, 'w') as f:\n",
    "        json.dump(config_dict, f, indent=4)\n",
    "        "
   ]
  },
  {
   "cell_type": "code",
   "execution_count": null,
   "metadata": {
    "editable": false,
    "scrolled": true,
    "slideshow": {
     "slide_type": ""
    },
    "tags": []
   },
   "outputs": [],
   "source": [
    "os.chdir(project_dir)\n",
    "\n",
    "# Load the configs\n",
    "config = loadJsonConfig('config.json')\n",
    "\n",
    "# Display the configs\n",
    "config\n"
   ]
  },
  {
   "cell_type": "markdown",
   "metadata": {
    "editable": false,
    "slideshow": {
     "slide_type": ""
    },
    "tags": []
   },
   "source": [
    "The config file has several sections.\n",
    "\n",
    "- **`general`**\n",
    "\n",
    "  This section includes top-level parameters such as the number of cores and the paths to the input and output data.\n",
    "\n",
    "- **`phase_linking`**\n",
    "\n",
    "  This section specifies the Phase Linking parameters. By default, `use_phase_linking_results: false`, i.e, no phase linking is performed.\n",
    "\n",
    "- **`preparation`**\n",
    "\n",
    "  This section includes network parameters and type, and window size used to estimate the temporal coherence.\n",
    "\n",
    "- **`consistency_check`**\n",
    "\n",
    "  This section contains parameters related to the first order points.\n",
    "\n",
    "- **`unwrapping`**\n",
    "\n",
    "  This section will specify parameters related to the unwrapping process.\n",
    "\n",
    "- **`filtering`**\n",
    "\n",
    "  This section defines the parameters for atmospheric estimation and filtering.\n",
    "\n",
    "- **`densification`**\n",
    "\n",
    "  This section includes the settings for second order points.\n"
   ]
  },
  {
   "cell_type": "markdown",
   "metadata": {
    "editable": false,
    "slideshow": {
     "slide_type": ""
    },
    "tags": []
   },
   "source": [
    "Please refer to the [documentation](https://sarvey.readthedocs.io/main/processing.html#configuration-file) for the details of each parameter."
   ]
  },
  {
   "cell_type": "markdown",
   "metadata": {
    "editable": false,
    "slideshow": {
     "slide_type": ""
    },
    "tags": []
   },
   "source": [
    "**SARvey** supports two general modes of processing, depending on the characteristics of the displacement (spatial extent, magnitude, temporal behaviour, etc.):\n",
    "- two-step unwrapping workflow\n",
    "- one-step unwrapping workflow\n"
   ]
  },
  {
   "cell_type": "markdown",
   "metadata": {
    "editable": false,
    "slideshow": {
     "slide_type": ""
    },
    "tags": []
   },
   "source": [
    "We will modify the following parameters before starting the processing:\n",
    "\n",
    "- general\n",
    "    - output_path: 'output_sb'\n",
    "    - num_cores: 10\n",
    "\n",
    "You can modify the parameters using a text editor, or run the following cell to modify the `config.json` file."
   ]
  },
  {
   "cell_type": "code",
   "execution_count": null,
   "metadata": {
    "editable": false,
    "slideshow": {
     "slide_type": ""
    },
    "tags": []
   },
   "outputs": [],
   "source": [
    "os.chdir(project_dir)\n",
    "\n",
    "# Load the configs\n",
    "config = loadJsonConfig('config.json')\n",
    "\n",
    "# Modify parameter\n",
    "config['general']['output_path'] = 'output_sb'\n",
    "config['general']['num_cores'] = 10\n",
    "\n",
    "dumpToJsonConfig('config.json', config)"
   ]
  },
  {
   "cell_type": "markdown",
   "metadata": {
    "editable": false,
    "slideshow": {
     "slide_type": ""
    },
    "tags": []
   },
   "source": [
    "Now verify the modified config file **`json.config`**"
   ]
  },
  {
   "cell_type": "code",
   "execution_count": null,
   "metadata": {
    "editable": false,
    "slideshow": {
     "slide_type": ""
    },
    "tags": []
   },
   "outputs": [],
   "source": [
    "os.chdir(project_dir)\n",
    "\n",
    "# Load the configs\n",
    "config = loadJsonConfig('config.json')\n",
    "config\n"
   ]
  },
  {
   "cell_type": "markdown",
   "metadata": {
    "editable": false,
    "slideshow": {
     "slide_type": ""
    },
    "tags": []
   },
   "source": [
    "#### Step 0: Preparation"
   ]
  },
  {
   "cell_type": "markdown",
   "metadata": {
    "editable": false,
    "slideshow": {
     "slide_type": ""
    },
    "tags": []
   },
   "source": [
    "Run [**Step 0: Preparation**](https://sarvey.readthedocs.io/main/processing.html#step-0-preparation) including the following:\n",
    "\n",
    "- Loading the data from the inputs/slcStack.h5\n",
    "\n",
    "- Designing the interferogram network based on the temporal and perpendicular baselines.\n",
    "\n",
    "- Generating a stack of interferograms\n",
    "\n",
    "- Estimating the temporal coherence\n"
   ]
  },
  {
   "cell_type": "markdown",
   "metadata": {
    "editable": false,
    "slideshow": {
     "slide_type": ""
    },
    "tags": []
   },
   "source": [
    "Currently 5 different networks of interfegograms are supported by SARvey.\n",
    "\n",
    "- small baseline network (`sb`) (Berardino et al. 2002),\n",
    "- small temporal baseline network (`stb`) (only consecutive images are used to form interferograms)\n",
    "- small temporal baselines + yearly interferograms (`stb_yearly`)\n",
    "- delaunay network (`delaunay`)\n",
    "- star network (`star`, single-reference network) (Ferretti et al. 2001)\n"
   ]
  },
  {
   "cell_type": "code",
   "execution_count": null,
   "metadata": {
    "editable": false,
    "slideshow": {
     "slide_type": ""
    },
    "tags": []
   },
   "outputs": [],
   "source": [
    "os.chdir(project_dir)\n",
    "\n",
    "! sarvey -f config.json 0 0 "
   ]
  },
  {
   "cell_type": "markdown",
   "metadata": {
    "editable": false,
    "slideshow": {
     "slide_type": ""
    },
    "tags": []
   },
   "source": [
    "Typical output of this step are\n",
    "- background_map.h5\n",
    "- ifg_stack.h5\n",
    "- coordinates_utm.h5\n",
    "- ifg_network.h5\n",
    "- temporal_coherence.h5\n",
    "\n",
    "Also, some snapshots are created in `pic` directory."
   ]
  },
  {
   "cell_type": "markdown",
   "metadata": {
    "editable": false,
    "slideshow": {
     "slide_type": ""
    },
    "tags": []
   },
   "source": [
    "We can now check the list output files with `tree`"
   ]
  },
  {
   "cell_type": "code",
   "execution_count": null,
   "metadata": {
    "editable": false,
    "slideshow": {
     "slide_type": ""
    },
    "tags": []
   },
   "outputs": [],
   "source": [
    "! tree "
   ]
  },
  {
   "cell_type": "markdown",
   "metadata": {
    "editable": false,
    "slideshow": {
     "slide_type": ""
    },
    "tags": []
   },
   "source": [
    "Now you can check the files created in pic directory."
   ]
  },
  {
   "cell_type": "code",
   "execution_count": null,
   "metadata": {
    "editable": false,
    "slideshow": {
     "slide_type": ""
    },
    "tags": []
   },
   "outputs": [],
   "source": [
    "# Display Mean Amplitude image\n",
    "Image(filename='output_sb/pic/step_0_amplitude_image.png')\n"
   ]
  },
  {
   "cell_type": "markdown",
   "metadata": {
    "editable": false,
    "slideshow": {
     "slide_type": ""
    },
    "tags": []
   },
   "source": [
    "**Note**: note that the amplitude image is flipped."
   ]
  },
  {
   "cell_type": "code",
   "execution_count": null,
   "metadata": {
    "editable": false,
    "slideshow": {
     "slide_type": ""
    },
    "tags": []
   },
   "outputs": [],
   "source": [
    "# Display Interferogram Network\n",
    "Image(filename='output_sb/pic/step_0_interferogram_network.png')\n"
   ]
  },
  {
   "cell_type": "code",
   "execution_count": null,
   "metadata": {
    "editable": false,
    "slideshow": {
     "slide_type": ""
    },
    "tags": []
   },
   "outputs": [],
   "source": [
    "# Display Temporal Phase Coherence\n",
    "Image(filename='output_sb/pic/step_0_temporal_phase_coherence.png')\n"
   ]
  },
  {
   "cell_type": "markdown",
   "metadata": {
    "editable": false,
    "slideshow": {
     "slide_type": ""
    },
    "tags": []
   },
   "source": [
    "Pixel selection is one of the major steps of InSAR time series analysis. To identify pixels that preserve phase quality, **Temporal Phase Coherence (TPC)** as proposed by [Zhao, et al., 2019](https://ieeexplore.ieee.org/document/8764576) is estimated in **step 0**. First, we estimate the phase noise for each pixel $p$ in each interferogram $i$ in the stack of $M$ interferograms.\n",
    "\n",
    "\\begin{equation}\n",
    "    \\psi_{\\text{noise}}^{i,p} \\approx \\psi_{\\text{central}}^{i,p} - \\widetilde{\\psi}_{\\text{neigh}}^{i,p}\n",
    "\\end{equation}"
   ]
  },
  {
   "attachments": {},
   "cell_type": "markdown",
   "metadata": {
    "deletable": false,
    "editable": false,
    "slideshow": {
     "slide_type": "subslide"
    },
    "tags": []
   },
   "source": [
    "![tcp.svg](data:image/svg+xml;base64,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)"
   ]
  },
  {
   "cell_type": "markdown",
   "metadata": {
    "editable": false,
    "slideshow": {
     "slide_type": ""
    },
    "tags": []
   },
   "source": [
    "Then, we calculate temporal phase coherence from the phase noise.\n",
    "\n",
    "\\begin{equation}\n",
    "    \\widehat{\\gamma}{^{\\,p}_{} = \\frac{1}{M} \\cdot \\big| \\sum_{i=1}^{M} e^{j \\psi_{\\text{noise}}^{i,p}}} \\big|\n",
    "\\end{equation}\n"
   ]
  },
  {
   "cell_type": "markdown",
   "metadata": {
    "editable": false,
    "slideshow": {
     "slide_type": ""
    },
    "tags": []
   },
   "source": [
    "We will use temporal phase coherence to select first-order and second-order points.\n"
   ]
  },
  {
   "cell_type": "markdown",
   "metadata": {
    "editable": false,
    "slideshow": {
     "slide_type": ""
    },
    "tags": []
   },
   "source": [
    "#### Step 1: Consistency Check"
   ]
  },
  {
   "cell_type": "markdown",
   "metadata": {
    "editable": false,
    "slideshow": {
     "slide_type": ""
    },
    "tags": []
   },
   "source": [
    "Run [**Step 1: Consistency Check**](https://sarvey.readthedocs.io/main/processing.html#step-1-consistency-check) including the following:\n",
    "\n",
    "- Selecting candidates for first order points\n",
    "- Creating a spatial network\n",
    "- Temporal unwrapping\n",
    "- Performing a consistency check on the data\n"
   ]
  },
  {
   "cell_type": "markdown",
   "metadata": {
    "editable": false,
    "slideshow": {
     "slide_type": ""
    },
    "tags": []
   },
   "source": [
    "First check the parameters step 1 in the config file."
   ]
  },
  {
   "cell_type": "code",
   "execution_count": null,
   "metadata": {
    "editable": false,
    "scrolled": true,
    "slideshow": {
     "slide_type": ""
    },
    "tags": []
   },
   "outputs": [],
   "source": [
    "os.chdir(project_dir)\n",
    "\n",
    "# Load the configs\n",
    "config = loadJsonConfig('config.json')\n",
    "config['consistency_check']\n"
   ]
  },
  {
   "cell_type": "markdown",
   "metadata": {
    "editable": false,
    "slideshow": {
     "slide_type": ""
    },
    "tags": []
   },
   "source": [
    "We do not change any parameters and run step 1."
   ]
  },
  {
   "cell_type": "code",
   "execution_count": null,
   "metadata": {
    "editable": false,
    "slideshow": {
     "slide_type": ""
    },
    "tags": []
   },
   "outputs": [],
   "source": [
    "os.chdir(project_dir)\n",
    "\n",
    "! sarvey -f config.json 1 1"
   ]
  },
  {
   "cell_type": "markdown",
   "metadata": {
    "editable": false,
    "slideshow": {
     "slide_type": ""
    },
    "tags": []
   },
   "source": [
    "Typical output of this step are\n",
    "- point_network.h5\n",
    "- point_network_parameter.h5\n",
    "- p1_ifg_wr.h5\n",
    "\n",
    "Also, some snapshots are created in `pic` directory."
   ]
  },
  {
   "cell_type": "markdown",
   "metadata": {
    "editable": false,
    "slideshow": {
     "slide_type": ""
    },
    "tags": []
   },
   "source": [
    "We can now check the list output files with `tree`"
   ]
  },
  {
   "cell_type": "code",
   "execution_count": null,
   "metadata": {
    "editable": false,
    "slideshow": {
     "slide_type": ""
    },
    "tags": []
   },
   "outputs": [],
   "source": [
    "! tree"
   ]
  },
  {
   "cell_type": "code",
   "execution_count": null,
   "metadata": {
    "editable": false,
    "slideshow": {
     "slide_type": ""
    },
    "tags": []
   },
   "outputs": [],
   "source": [
    "# Display Selected First Order Pixels\n",
    "Image(filename='output_sb/pic/selected_pixels_temp_coh_0.9.png')\n"
   ]
  },
  {
   "cell_type": "code",
   "execution_count": null,
   "metadata": {
    "editable": false,
    "slideshow": {
     "slide_type": ""
    },
    "tags": []
   },
   "outputs": [],
   "source": [
    "# Display arcs\n",
    "Image(filename='output_sb/pic/step_1_arc_coherence.png')\n"
   ]
  },
  {
   "cell_type": "code",
   "execution_count": null,
   "metadata": {
    "editable": false,
    "slideshow": {
     "slide_type": ""
    },
    "tags": []
   },
   "outputs": [],
   "source": [
    "# Display Arcs after removing inconsistent arcs/points\n",
    "Image(filename='output_sb/pic/step_1_arc_coherence_reduced.png')\n"
   ]
  },
  {
   "cell_type": "code",
   "execution_count": null,
   "metadata": {
    "editable": false,
    "slideshow": {
     "slide_type": ""
    },
    "tags": []
   },
   "outputs": [],
   "source": [
    "# Display Velocity RMSE\n",
    "Image(filename='output_sb/pic/step_1_rmse_vel_0th_iter.png')\n"
   ]
  },
  {
   "cell_type": "code",
   "execution_count": null,
   "metadata": {
    "editable": false,
    "slideshow": {
     "slide_type": ""
    },
    "tags": []
   },
   "outputs": [],
   "source": [
    "# Display DEM Correction RMSE\n",
    "Image(filename='output_sb/pic/step_1_rmse_dem_correction_0th_iter.png')\n"
   ]
  },
  {
   "cell_type": "markdown",
   "metadata": {
    "editable": false,
    "slideshow": {
     "slide_type": ""
    },
    "tags": []
   },
   "source": [
    "#### Step 2: Unwrapping"
   ]
  },
  {
   "cell_type": "markdown",
   "metadata": {
    "editable": false,
    "slideshow": {
     "slide_type": ""
    },
    "tags": []
   },
   "source": [
    "Run [**Step 2: Unwrapping**](https://sarvey.readthedocs.io/main/processing.html#step-2-unwrapping). Step 2 supports two types of unwrapping based on the parameter `general:apply_temporal_unwrapping`\n",
    "\n",
    "For **unwrapping in time and space**, the following are performed: \n",
    "\n",
    "- Integrating parameters from arcs to points\n",
    "- Removing phase contributions (mean velocity and DEM correction)\n",
    "- Spatial unwrapping of the residuals\n",
    "- Restore phase contributions to the spatially unwrapped residual phase\n",
    "- Adjust reference\n",
    "- Inverting the interferogram network\n",
    "\n",
    "For **unwrapping in space**, the following are perfomed:\n",
    "- Spatial unwrapping\n",
    "- Adjust reference\n",
    "- Inverting the interferogram network\n"
   ]
  },
  {
   "cell_type": "markdown",
   "metadata": {
    "editable": false,
    "slideshow": {
     "slide_type": ""
    },
    "tags": []
   },
   "source": [
    "First check the parameters step 2 in the config file."
   ]
  },
  {
   "cell_type": "code",
   "execution_count": null,
   "metadata": {
    "editable": false,
    "slideshow": {
     "slide_type": ""
    },
    "tags": []
   },
   "outputs": [],
   "source": [
    "os.chdir(project_dir)\n",
    "\n",
    "# Load the configs\n",
    "config = loadJsonConfig('config.json')\n",
    "config['general']['apply_temporal_unwrapping']\n"
   ]
  },
  {
   "cell_type": "code",
   "execution_count": null,
   "metadata": {
    "editable": false,
    "slideshow": {
     "slide_type": ""
    },
    "tags": []
   },
   "outputs": [],
   "source": [
    "os.chdir(project_dir)\n",
    "\n",
    "# Load the configs\n",
    "config = loadJsonConfig('config.json')\n",
    "config['unwrapping']\n"
   ]
  },
  {
   "cell_type": "markdown",
   "metadata": {
    "editable": false,
    "slideshow": {
     "slide_type": ""
    },
    "tags": []
   },
   "source": [
    "We do not change any parameters and run step 2."
   ]
  },
  {
   "cell_type": "code",
   "execution_count": null,
   "metadata": {
    "editable": false,
    "slideshow": {
     "slide_type": ""
    },
    "tags": []
   },
   "outputs": [],
   "source": [
    "os.chdir(project_dir)\n",
    "\n",
    "! sarvey -f config.json 2 2"
   ]
  },
  {
   "cell_type": "markdown",
   "metadata": {
    "editable": false,
    "slideshow": {
     "slide_type": ""
    },
    "tags": []
   },
   "source": [
    "Typical output of this step are\n",
    "- p1_ifg_unw.h5\n",
    "- p1_ifg_ts.h5\n",
    "\n",
    "Also, some snapshots are created in `pic` directory."
   ]
  },
  {
   "cell_type": "markdown",
   "metadata": {
    "editable": false,
    "slideshow": {
     "slide_type": ""
    },
    "tags": []
   },
   "source": [
    "We can now check the list output files with `tree`"
   ]
  },
  {
   "cell_type": "code",
   "execution_count": null,
   "metadata": {
    "editable": false,
    "slideshow": {
     "slide_type": ""
    },
    "tags": []
   },
   "outputs": [],
   "source": [
    "! tree"
   ]
  },
  {
   "cell_type": "code",
   "execution_count": null,
   "metadata": {
    "editable": false,
    "slideshow": {
     "slide_type": ""
    },
    "tags": []
   },
   "outputs": [],
   "source": [
    "# Display Estimated Dem Correction\n",
    "Image(filename='output_sb/pic/step_2_estimation_dem_correction.png')\n"
   ]
  },
  {
   "cell_type": "code",
   "execution_count": null,
   "metadata": {
    "editable": false,
    "slideshow": {
     "slide_type": ""
    },
    "tags": []
   },
   "outputs": [],
   "source": [
    "# Display Estimated Velocity\n",
    "Image(filename='output_sb/pic/step_2_estimation_velocity.png')\n"
   ]
  },
  {
   "cell_type": "markdown",
   "metadata": {
    "editable": false,
    "slideshow": {
     "slide_type": ""
    },
    "tags": []
   },
   "source": [
    "#### Step 3: Filtering"
   ]
  },
  {
   "cell_type": "markdown",
   "metadata": {
    "editable": false,
    "slideshow": {
     "slide_type": ""
    },
    "tags": []
   },
   "source": [
    "Run [**Step 3: Filtering**](https://sarvey.readthedocs.io/main/processing.html#step-3-filtering) including the following.\n",
    "\n",
    "- Selecting pixels with no or linear displacement\n",
    "- Selecting second-order points\n",
    "- Estimating the atmospheric phase screen (APS)"
   ]
  },
  {
   "cell_type": "markdown",
   "metadata": {
    "editable": false,
    "slideshow": {
     "slide_type": ""
    },
    "tags": []
   },
   "source": [
    "First check the parameters step 3 in the config file."
   ]
  },
  {
   "cell_type": "code",
   "execution_count": null,
   "metadata": {
    "editable": false,
    "slideshow": {
     "slide_type": ""
    },
    "tags": []
   },
   "outputs": [],
   "source": [
    "os.chdir(project_dir)\n",
    "\n",
    "# Load the configs\n",
    "config = loadJsonConfig('config.json')\n",
    "config['filtering']\n"
   ]
  },
  {
   "cell_type": "markdown",
   "metadata": {
    "editable": false,
    "slideshow": {
     "slide_type": ""
    },
    "tags": []
   },
   "source": [
    "First, we do not change any parameters and run step 3."
   ]
  },
  {
   "cell_type": "code",
   "execution_count": null,
   "metadata": {
    "editable": false,
    "slideshow": {
     "slide_type": ""
    },
    "tags": []
   },
   "outputs": [],
   "source": [
    "os.chdir(project_dir)\n",
    "\n",
    "! sarvey -f config.json 3 3"
   ]
  },
  {
   "cell_type": "markdown",
   "metadata": {
    "editable": false,
    "slideshow": {
     "slide_type": ""
    },
    "tags": []
   },
   "source": [
    "A regular grid (`filtering:grid_size` in [m]) is applied to select the first-order points with the lowest temporal autocorrelation to reduce the computational complexity during filtering. As the area is relatively small, the following warning may appear indicating that too little pixels were selected for atmospheric estimation.\n",
    " \n",
    "> ```WARNING - Only 2 points for APS filtering selected. Filtering results are probably not reliable. You can e.g. increase 'max_auto_corr' or try to increase the number of first-order points during step 1 and 2.```\n"
   ]
  },
  {
   "cell_type": "markdown",
   "metadata": {
    "editable": false,
    "slideshow": {
     "slide_type": ""
    },
    "tags": []
   },
   "source": [
    "Let’s first examine the snapshots to better understand how the points selected for atmospheric estimation are distributed.\n"
   ]
  },
  {
   "cell_type": "code",
   "execution_count": null,
   "metadata": {
    "editable": false,
    "slideshow": {
     "slide_type": ""
    },
    "tags": []
   },
   "outputs": [],
   "source": [
    "# Display Temporal Autocorrelation\n",
    "Image(filename='output_sb/pic/step_3_temporal_autocorrelation.png')\n"
   ]
  },
  {
   "cell_type": "code",
   "execution_count": null,
   "metadata": {
    "editable": false,
    "slideshow": {
     "slide_type": ""
    },
    "tags": []
   },
   "outputs": [],
   "source": [
    "# Display Selected Points for APS Estimation\n",
    "Image(filename='output_sb/pic/step_3_stable_points.png')\n"
   ]
  },
  {
   "cell_type": "markdown",
   "metadata": {
    "editable": false,
    "slideshow": {
     "slide_type": ""
    },
    "tags": []
   },
   "source": [
    "To address this issue, we should carefully modify parameters of step 1 or 2 to increase the number of reliable first-order points and ensure a uniform distribution of them. However, given the small size of the area, we choose to skip atmospheric filtering for now.\n"
   ]
  },
  {
   "cell_type": "code",
   "execution_count": null,
   "metadata": {
    "editable": false,
    "slideshow": {
     "slide_type": ""
    },
    "tags": []
   },
   "outputs": [],
   "source": [
    "os.chdir(project_dir)\n",
    "\n",
    "# Load the configs\n",
    "config = loadJsonConfig('config.json')\n",
    "\n",
    "# Modify parameter\n",
    "config['filtering']['apply_aps_filtering'] = False\n",
    "\n",
    "dumpToJsonConfig('config.json', config)"
   ]
  },
  {
   "cell_type": "markdown",
   "metadata": {
    "editable": false,
    "slideshow": {
     "slide_type": ""
    },
    "tags": []
   },
   "source": [
    "Let's also examine the snapshots to see how well the second-order points are distributed."
   ]
  },
  {
   "cell_type": "code",
   "execution_count": null,
   "metadata": {
    "slideshow": {
     "slide_type": ""
    },
    "tags": []
   },
   "outputs": [],
   "source": [
    "# Display Selected Second Order Points\n",
    "Image(filename='output_sb/pic/step_3_mask_p2_coh80.png')\n"
   ]
  },
  {
   "cell_type": "markdown",
   "metadata": {
    "editable": false,
    "slideshow": {
     "slide_type": ""
    },
    "tags": []
   },
   "source": [
    "We can slightly and carefully reduce the `filtering:coherence_p2` threshold to select more second-order points."
   ]
  },
  {
   "cell_type": "code",
   "execution_count": null,
   "metadata": {
    "editable": false,
    "slideshow": {
     "slide_type": ""
    },
    "tags": []
   },
   "outputs": [],
   "source": [
    "os.chdir(project_dir)\n",
    "\n",
    "# Load the configs\n",
    "config = loadJsonConfig('config.json')\n",
    "\n",
    "# Modify parameter\n",
    "config['filtering']['coherence_p2'] = 0.6\n",
    "\n",
    "dumpToJsonConfig('config.json', config)"
   ]
  },
  {
   "cell_type": "markdown",
   "metadata": {
    "editable": false,
    "slideshow": {
     "slide_type": ""
    },
    "tags": []
   },
   "source": [
    "Then we rerun step 3"
   ]
  },
  {
   "cell_type": "code",
   "execution_count": null,
   "metadata": {
    "editable": false,
    "slideshow": {
     "slide_type": ""
    },
    "tags": []
   },
   "outputs": [],
   "source": [
    "os.chdir(project_dir)\n",
    "\n",
    "! sarvey -f config.json 3 3"
   ]
  },
  {
   "cell_type": "markdown",
   "metadata": {
    "editable": false,
    "slideshow": {
     "slide_type": ""
    },
    "tags": []
   },
   "source": [
    "Typical output of this step are\n",
    "- p1_ts_filt.h5\n",
    "- p1_aps.h5\n",
    "- p2_cohXX_aps.h5\n",
    "- p2_cohXX_ifg_wr.h5\n",
    "\n",
    "Also, some snapshots are created in `pic` directory."
   ]
  },
  {
   "cell_type": "markdown",
   "metadata": {
    "editable": false,
    "slideshow": {
     "slide_type": ""
    },
    "tags": []
   },
   "source": [
    "We can now check the list output files with `tree`"
   ]
  },
  {
   "cell_type": "code",
   "execution_count": null,
   "metadata": {
    "editable": false,
    "slideshow": {
     "slide_type": ""
    },
    "tags": []
   },
   "outputs": [],
   "source": [
    "! tree"
   ]
  },
  {
   "cell_type": "markdown",
   "metadata": {
    "editable": true,
    "slideshow": {
     "slide_type": ""
    },
    "tags": []
   },
   "source": [
    "We can now check the selected second order points with `filtering:coherence_p2 = 0.6`."
   ]
  },
  {
   "cell_type": "code",
   "execution_count": null,
   "metadata": {
    "editable": false,
    "slideshow": {
     "slide_type": ""
    },
    "tags": []
   },
   "outputs": [],
   "source": [
    "# Display Selected Second Order Points\n",
    "Image(filename='output_sb/pic/step_3_mask_p2_coh60.png')\n"
   ]
  },
  {
   "cell_type": "code",
   "execution_count": null,
   "metadata": {
    "editable": true,
    "slideshow": {
     "slide_type": ""
    },
    "tags": []
   },
   "outputs": [],
   "source": []
  }
 ],
 "metadata": {
  "colab": {
   "provenance": []
  },
  "kernelspec": {
   "display_name": "Python 3 (ipykernel)",
   "language": "python",
   "name": "python3"
  },
  "language_info": {
   "codemirror_mode": {
    "name": "ipython",
    "version": 3
   },
   "file_extension": ".py",
   "mimetype": "text/x-python",
   "name": "python",
   "nbconvert_exporter": "python",
   "pygments_lexer": "ipython3",
   "version": "3.12.2"
  }
 },
 "nbformat": 4,
 "nbformat_minor": 4
}
