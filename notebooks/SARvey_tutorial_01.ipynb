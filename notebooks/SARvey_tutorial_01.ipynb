{
 "cells": [
  {
   "cell_type": "markdown",
   "metadata": {
    "editable": false,
    "jp-MarkdownHeadingCollapsed": true,
    "slideshow": {
     "slide_type": ""
    },
    "tags": []
   },
   "source": [
    "## SARvey - survey with SAR "
   ]
  },
  {
   "attachments": {},
   "cell_type": "markdown",
   "metadata": {
    "deletable": false,
    "editable": false,
    "id": "KCeJMObAJRq8",
    "jp-MarkdownHeadingCollapsed": true,
    "slideshow": {
     "slide_type": "slide"
    },
    "tags": []
   },
   "source": [
    "---\n",
    "<img src=\"https://seafile.projekt.uni-hannover.de/f/69eac9bb5f86400fa1ad/?dl=1\" width=\"512\">\n",
    "\n",
    "\n",
    "**SARvey** is an open-source software developed for the analysis of Interferometric Synthetic Aperture Radar (InSAR) displacement time series, particularly tailored for engineering applications. It offers a comprehensive workflow to process and analyze Synthetic Aperture Radar (SAR) data, enabling users to monitor and assess ground deformations with high precision.\n",
    "\n",
    "For more information, visit the following:\n",
    "* **[SARvey GitHub Repository](https://github.com/luhipi/sarvey)**\n",
    "* **[SARvey Documentation](https://luhipi.github.io/sarvey/docs/)**\n",
    "* **[How to cite SARvey](https://sarvey.readthedocs.io/main/readme.html#how-to-cite/)**\n",
    "\n",
    "---\n",
    "\n",
    "This tutorial covers the SARvey processing steps for a sample dataset, as a practical example to demonstrate its main capabilities.\n",
    "\n",
    "---\n",
    "\n",
    "*This tutorial is prepared by **[Mahmud Haghighi](https://www.ipi.uni-hannover.de/en/haghighi/)** from the Institute of Photogrammetry and GeoInformation, Leibniz University Hannover.*\n",
    "\n"
   ]
  },
  {
   "cell_type": "markdown",
   "metadata": {
    "editable": false,
    "slideshow": {
     "slide_type": ""
    },
    "tags": []
   },
   "source": [
    "### SARvey workflow"
   ]
  },
  {
   "attachments": {},
   "cell_type": "markdown",
   "metadata": {
    "editable": false,
    "slideshow": {
     "slide_type": "subslide"
    },
    "tags": []
   },
   "source": [
    "**TODO: add short description**\n",
    "<img src=\"https://seafile.projekt.uni-hannover.de/f/006f702937cd4e618bcb/?dl=1\" width=\"512\">\n",
    "\n",
    "\n"
   ]
  },
  {
   "cell_type": "markdown",
   "metadata": {
    "editable": false,
    "jp-MarkdownHeadingCollapsed": true,
    "slideshow": {
     "slide_type": ""
    },
    "tags": []
   },
   "source": [
    "**TODO: add short description**\n",
    "<img src=\"https://seafile.projekt.uni-hannover.de/f/39209355cabc4607bf0a/?dl=1\" width=\"512\">\n"
   ]
  },
  {
   "cell_type": "markdown",
   "metadata": {
    "editable": false,
    "slideshow": {
     "slide_type": ""
    },
    "tags": []
   },
   "source": [
    "### Before we start"
   ]
  },
  {
   "cell_type": "markdown",
   "metadata": {
    "editable": false,
    "jp-MarkdownHeadingCollapsed": true,
    "slideshow": {
     "slide_type": ""
    },
    "tags": []
   },
   "source": [
    "This tutorial uses Jupyter Notebook syntax. Here are a few helpful things to know before running the cells:\n",
    "\n",
    "- `!` at the beginning of a line is used to run shell (terminal) commands directly from the notebook. For example:\n",
    "    - `!ls` — lists files in the current directory\n",
    "    - `!pwd` — prints the current working directory\n",
    "    - `!cd directory_name` — changes the directory (note: cd won't persist across cells unless handled carefully)\n",
    "    - `!mkdir new_folder` — creates a new directory\n",
    "    - `!pip install sarvey` — installs the sarvey package\n",
    "    - `!sarvey -h` — displays the help message for the sarvey command-line interface.\n",
    "\n",
    "**Note**: You do not need the `!` if you are running these commands directly in a terminal (outside of Notebook).\n",
    "\n"
   ]
  },
  {
   "cell_type": "markdown",
   "metadata": {
    "editable": false,
    "jp-MarkdownHeadingCollapsed": true,
    "slideshow": {
     "slide_type": ""
    },
    "tags": []
   },
   "source": [
    "## Installation"
   ]
  },
  {
   "cell_type": "markdown",
   "metadata": {
    "editable": false,
    "slideshow": {
     "slide_type": ""
    },
    "tags": []
   },
   "source": [
    "SARvey is a cross-platform python-based software and can be installed on Linux, MacOS and Windows. If you are installing SARvey on your local machine, you can refer to the **[SARvey Installation](https://sarvey.readthedocs.io/main/installation.html#installation)**.\n",
    "\n",
    "SARvey depends on other open-source software and python packages. Most of dependencies, including *MintPy* are integrated into SARvey installation and will be installed with a simple `pip` command. pip is the package installer for Python. Before installing **SARvey**, we need to install *MiaplPy* separately."
   ]
  },
  {
   "cell_type": "markdown",
   "metadata": {
    "editable": false,
    "slideshow": {
     "slide_type": ""
    },
    "tags": []
   },
   "source": [
    "Run the following cell to install **MiaplPy**. This cell will use `pip` for the installation. Note the exclamation mark (!) at the beginning of the command."
   ]
  },
  {
   "cell_type": "code",
   "execution_count": null,
   "metadata": {
    "editable": false,
    "slideshow": {
     "slide_type": ""
    },
    "tags": []
   },
   "outputs": [],
   "source": [
    "!pip install git+https://github.com/insarlab/MiaplPy.git --quiet"
   ]
  },
  {
   "cell_type": "markdown",
   "metadata": {
    "editable": false,
    "slideshow": {
     "slide_type": ""
    },
    "tags": []
   },
   "source": [
    "Run the following cell to install **SARvey** along with its required dependencies. These include **MintPy** and several other open-source packages that SARvey relies on to function properly."
   ]
  },
  {
   "cell_type": "code",
   "execution_count": null,
   "metadata": {
    "editable": false,
    "slideshow": {
     "slide_type": ""
    },
    "tags": []
   },
   "outputs": [],
   "source": [
    "!pip install git+https://github.com/luhipi/sarvey --quiet"
   ]
  },
  {
   "cell_type": "markdown",
   "metadata": {
    "editable": false,
    "slideshow": {
     "slide_type": ""
    },
    "tags": []
   },
   "source": [
    "After installation, run the following cells to verify that **MiaplPy**, **MintPy** and **SARvey** are installed correctly.\n",
    "\n",
    "If the installation is successful, you will see the usage prompt for each software.\n",
    "```\n",
    "usage: miaplpyApp [-h] [--dir WORKDIR] [-g] [-H] [-v] [--walltime WALL_TIME]\n",
    "\n",
    "\n",
    "```\n",
    "\n",
    "If you encounter errors like the one below, it indicates that the software is not installed properly:\n",
    "\n",
    "```\n",
    "ERROR: unknown command \"miaplpyApp\"\n",
    "```"
   ]
  },
  {
   "cell_type": "code",
   "execution_count": null,
   "metadata": {
    "editable": false,
    "slideshow": {
     "slide_type": ""
    },
    "tags": []
   },
   "outputs": [],
   "source": [
    "!miaplpyApp"
   ]
  },
  {
   "cell_type": "code",
   "execution_count": null,
   "metadata": {
    "editable": false,
    "slideshow": {
     "slide_type": ""
    },
    "tags": []
   },
   "outputs": [],
   "source": [
    "!mintpy -h"
   ]
  },
  {
   "cell_type": "code",
   "execution_count": null,
   "metadata": {
    "editable": false,
    "slideshow": {
     "slide_type": ""
    },
    "tags": []
   },
   "outputs": [],
   "source": [
    "!sarvey -h"
   ]
  },
  {
   "cell_type": "markdown",
   "metadata": {
    "editable": false,
    "slideshow": {
     "slide_type": ""
    },
    "tags": []
   },
   "source": [
    "## Imports"
   ]
  },
  {
   "cell_type": "markdown",
   "metadata": {
    "editable": false,
    "slideshow": {
     "slide_type": ""
    },
    "tags": []
   },
   "source": [
    "Install additional packages required for this tutorial."
   ]
  },
  {
   "cell_type": "code",
   "execution_count": null,
   "metadata": {
    "editable": false,
    "slideshow": {
     "slide_type": ""
    },
    "tags": []
   },
   "outputs": [],
   "source": [
    "# install tree\n",
    "!apt-get -qq install tree"
   ]
  },
  {
   "cell_type": "markdown",
   "metadata": {
    "editable": false,
    "slideshow": {
     "slide_type": ""
    },
    "tags": []
   },
   "source": [
    "Imports essential Python libraries required for this tutorial."
   ]
  },
  {
   "cell_type": "code",
   "execution_count": null,
   "metadata": {
    "editable": false,
    "scrolled": true,
    "slideshow": {
     "slide_type": ""
    },
    "tags": []
   },
   "outputs": [],
   "source": [
    "import os\n",
    "from IPython.display import display, Image, JSON, Markdown\n",
    "from matplotlib import pyplot as plt\n",
    "import numpy as np\n",
    "import h5py as h5\n",
    "import json5 as json"
   ]
  },
  {
   "cell_type": "markdown",
   "metadata": {
    "editable": false,
    "slideshow": {
     "slide_type": ""
    },
    "tags": []
   },
   "source": [
    "## Download data"
   ]
  },
  {
   "cell_type": "markdown",
   "metadata": {
    "editable": false,
    "slideshow": {
     "slide_type": ""
    },
    "tags": []
   },
   "source": [
    "**Demo Dataset**: Masjed Soleyman Dam\n",
    "\n",
    "This tutorial focuses on measuring the post-construction settlement of the Masjed Soleyman Dam. It is a rock-fill dam on the Karun river, opened in 2002. [Previous investigations](https://www.sciencedirect.com/science/article/pii/S0141029617311525) using GNSS and high-resolution TerraSAR-X data, have shown substantial post-construction settlement of the dam. TerraSAR-X results show that the dam undergoes a maximum deformation rate of 13 cm/year in the radar line-of-sight. In this tutorial, we will use Sentinel-1 data to retrieve the deformation of the dam.\n",
    "\n",
    "**Dataset Highlights:**\n",
    "- **Location:** Masjed Soleyman Dam, Iran\n",
    "- **Data Type:** Coregistered stack of SLCs with corresponding geometry information"
   ]
  },
  {
   "cell_type": "markdown",
   "metadata": {
    "editable": false,
    "slideshow": {
     "slide_type": ""
    },
    "tags": []
   },
   "source": [
    "Specify the working directory. \n",
    "On **Google Colab**, the working directory should be\n",
    "```\n",
    "work_dir = '/content'\n",
    "```"
   ]
  },
  {
   "cell_type": "code",
   "execution_count": null,
   "metadata": {
    "editable": false,
    "slideshow": {
     "slide_type": ""
    },
    "tags": []
   },
   "outputs": [],
   "source": [
    "# specify working directory. On Google Colab it should be '/content'\n",
    "work_dir = '/content'"
   ]
  },
  {
   "cell_type": "markdown",
   "metadata": {
    "editable": false,
    "slideshow": {
     "slide_type": ""
    },
    "tags": []
   },
   "source": [
    "Run the following cell to downloat the data and unzip it."
   ]
  },
  {
   "cell_type": "code",
   "execution_count": null,
   "metadata": {
    "editable": false,
    "slideshow": {
     "slide_type": ""
    },
    "tags": []
   },
   "outputs": [],
   "source": [
    "# Change the directory\n",
    "os.chdir(work_dir)\n",
    "\n",
    "# Download data\n",
    "!wget  -N https://seafile.cloud.uni-hannover.de/f/6bf916a2fba6404ab439/?dl=1  -O Masjed_Soleyman_Dam_S1_dsc_2015_2022.zip\n",
    "\n",
    "# Unzip data into masjed_s1 directory\n",
    "!unzip -q -o Masjed_Soleyman_Dam_S1_dsc_2015_2022.zip\n",
    "\n",
    "# Rename the extracted folder\n",
    "!mv Masjed_Soleyman_Dam_S1_dsc_2015_2022 masjed_s1\n",
    "\n",
    "# Define the project directory path as a variable\n",
    "project_dir=os.path.join(work_dir, 'masjed_s1')\n"
   ]
  },
  {
   "cell_type": "markdown",
   "metadata": {
    "editable": false,
    "jp-MarkdownHeadingCollapsed": true,
    "slideshow": {
     "slide_type": ""
    },
    "tags": []
   },
   "source": [
    "## Check the input data"
   ]
  },
  {
   "cell_type": "markdown",
   "metadata": {
    "editable": false,
    "slideshow": {
     "slide_type": ""
    },
    "tags": []
   },
   "source": [
    "A typical directory structure to run SARvey looks like the following:\n",
    "```\n",
    "📂 project_folder/\n",
    "  │── 📁 inputs/               # SARvey inputs\n",
    "  │     ├── slcStack.h5        # stack of resampled SLCs\n",
    "  │     └── geometryRadar.h5   # geometry in Radar coordinates\n",
    "  ├── 📁 outputs/              # SARvey outputs\n",
    "  └── 📄 config.json           # SARvey processing configuration\n",
    "```\n",
    "\n",
    "The input to SARvey are the `slcStack.h5` and `geometryRadar.h5`.\n"
   ]
  },
  {
   "cell_type": "markdown",
   "metadata": {
    "editable": false,
    "slideshow": {
     "slide_type": ""
    },
    "tags": []
   },
   "source": [
    "Let's check the directory structure of the downloaded data using `tree` command."
   ]
  },
  {
   "cell_type": "code",
   "execution_count": null,
   "metadata": {
    "editable": false,
    "slideshow": {
     "slide_type": ""
    },
    "tags": []
   },
   "outputs": [],
   "source": [
    "# Navigate to the project directory\n",
    "os.chdir(project_dir)\n",
    "\n",
    "# Display the directory structure in a tree-like format\n",
    "!tree\n"
   ]
  },
  {
   "cell_type": "markdown",
   "metadata": {
    "editable": false,
    "slideshow": {
     "slide_type": ""
    },
    "tags": []
   },
   "source": [
    "***\n",
    "It is a good practice to use MintPy `info.py` functions to verify the metadata of the input files before starting the SARvey processing. "
   ]
  },
  {
   "cell_type": "code",
   "execution_count": null,
   "metadata": {
    "editable": false,
    "slideshow": {
     "slide_type": ""
    },
    "tags": []
   },
   "outputs": [],
   "source": [
    "## Navigate to the input directory\n",
    "os.chdir(project_dir+'/inputs')\n",
    "\n",
    "# Display metadata and structure of the 'geometryRadar.h5' file\n",
    "!info.py geometryRadar.h5\n"
   ]
  },
  {
   "cell_type": "code",
   "execution_count": null,
   "metadata": {
    "editable": false,
    "slideshow": {
     "slide_type": ""
    },
    "tags": []
   },
   "outputs": [],
   "source": [
    "## Navigate to the input directory\n",
    "os.chdir(project_dir+'/inputs')\n",
    "\n",
    "# Display metadata and structure of the 'slcStack.h5' file\n",
    "!info.py slcStack.h5\n"
   ]
  },
  {
   "cell_type": "markdown",
   "metadata": {
    "editable": false,
    "slideshow": {
     "slide_type": ""
    },
    "tags": []
   },
   "source": [
    "There are more information that you can get using `info.py`. For example:"
   ]
  },
  {
   "cell_type": "code",
   "execution_count": null,
   "metadata": {
    "editable": false,
    "slideshow": {
     "slide_type": ""
    },
    "tags": []
   },
   "outputs": [],
   "source": [
    "# show a list of SLC dates with numbers\n",
    "!info.py slcStack.h5 --num\n"
   ]
  },
  {
   "cell_type": "markdown",
   "metadata": {
    "editable": false,
    "slideshow": {
     "slide_type": ""
    },
    "tags": []
   },
   "source": [
    "***\n",
    "You can also use MintPy `view.py` functions to visualize the input fles before starting the SARvey processing. "
   ]
  },
  {
   "cell_type": "code",
   "execution_count": null,
   "metadata": {
    "editable": false,
    "slideshow": {
     "slide_type": ""
    },
    "tags": []
   },
   "outputs": [],
   "source": [
    "## Navigate to the input directory\n",
    "os.chdir(project_dir+'/inputs')\n",
    "\n",
    "# Use the view.py command to create geometryRadar.png\n",
    "!view.py geometryRadar.h5 --save --noverbose --update\n",
    "\n",
    "# Show the image in notebook\n",
    "Image(filename='geometryRadar.png')"
   ]
  },
  {
   "cell_type": "markdown",
   "metadata": {
    "editable": false,
    "slideshow": {
     "slide_type": ""
    },
    "tags": []
   },
   "source": [
    "Instead of using `view.py` you can use the view from mintpy.cli if you are an experienced user\n",
    "\n",
    "```\n",
    "# Import view\n",
    "from mintpy.cli import view\n",
    "\n",
    "# Create geometryRadar.png\n",
    "view.main('geometryRadar.h5 --save --noverbose'.split())\n",
    "\n",
    "# Show the image in notebook\n",
    "Image(filename='geometryRadar.png')\n",
    "```"
   ]
  },
  {
   "cell_type": "markdown",
   "metadata": {
    "editable": false,
    "slideshow": {
     "slide_type": ""
    },
    "tags": []
   },
   "source": [
    "`view.py` can also be used to show the amplitudes from the slcStack, but it might be time-consuming, depending on the data size"
   ]
  },
  {
   "cell_type": "markdown",
   "metadata": {
    "editable": false,
    "slideshow": {
     "slide_type": ""
    },
    "tags": []
   },
   "source": [
    "***\n",
    "Both input files are in HDF5 format and can be examined using a simple script with the `h5py` library. First, we define `showMeanAmplitude()` function to extract mean amplitude of first 25 images in slcStack.h5 and then call the function."
   ]
  },
  {
   "cell_type": "code",
   "execution_count": null,
   "metadata": {
    "editable": false,
    "slideshow": {
     "slide_type": ""
    },
    "tags": []
   },
   "outputs": [],
   "source": [
    "def showMeanAmplitude(slc_file='inputs/slcStack.h5', n=25):\n",
    "    # Open the HDF5 file containing the SLC stack\n",
    "    with h5.File(slc_file, 'r') as f:\n",
    "        if n>=f['slc'].shape[0]:\n",
    "            print(f'Image index {n} exceeds the number of available images.')\n",
    "            return\n",
    "        # Extract the image 0 to n from the stack\n",
    "        slc_stack = f['slc'][0:n,:,:]\n",
    "\n",
    "    # Compute mean amplitude of the complex SLC image\n",
    "    slc_amp = np.mean(np.abs(slc_stack), axis=0)\n",
    "    \n",
    "    plt.figure(figsize=(20,3))\n",
    "    plt.imshow(np.log10(slc_amp), cmap='gray')\n",
    "    plt.xlabel('[Range]')\n",
    "    plt.ylabel('[Azimuth]')\n",
    "    plt.title(f'Mean Amplitude of image 0-{n} in dB')\n",
    "    plt.colorbar()\n",
    "    plt.show()\n",
    "\n",
    "showMeanAmplitude()"
   ]
  },
  {
   "cell_type": "markdown",
   "metadata": {
    "editable": false,
    "slideshow": {
     "slide_type": ""
    },
    "tags": []
   },
   "source": [
    "## Start SARvey processing"
   ]
  },
  {
   "cell_type": "markdown",
   "metadata": {
    "editable": false,
    "slideshow": {
     "slide_type": ""
    },
    "tags": []
   },
   "source": [
    "We first run **`sarvey -h`** to see the quick help. Please also refer to the full documentation to see the details of processing."
   ]
  },
  {
   "cell_type": "code",
   "execution_count": null,
   "metadata": {
    "editable": false,
    "slideshow": {
     "slide_type": ""
    },
    "tags": []
   },
   "outputs": [],
   "source": [
    "! sarvey -h"
   ]
  },
  {
   "cell_type": "markdown",
   "metadata": {
    "editable": false,
    "slideshow": {
     "slide_type": ""
    },
    "tags": []
   },
   "source": [
    "The first step in the processing workflow is to generate the configuration file using the command:\n",
    "\n",
    "**```sarvey -f config.json 0 0 -g```**\n",
    "\n",
    "The **`-g`** flag instructs SARvey to generate a default config.json file. Although the command includes **`0 0`** as step indices, no processing steps will actually be executed when **`-g`** is used. Instead, the command will only create the configuration file.\n"
   ]
  },
  {
   "cell_type": "code",
   "execution_count": null,
   "metadata": {
    "editable": false,
    "slideshow": {
     "slide_type": ""
    },
    "tags": []
   },
   "outputs": [],
   "source": [
    "os.chdir(project_dir)\n",
    "\n",
    "! sarvey -f config.json 0 0 -g"
   ]
  },
  {
   "cell_type": "markdown",
   "metadata": {
    "editable": false,
    "slideshow": {
     "slide_type": ""
    },
    "tags": []
   },
   "source": [
    "List the directory contents to confirm that **config.json** was successfully created."
   ]
  },
  {
   "cell_type": "code",
   "execution_count": null,
   "metadata": {
    "editable": false,
    "slideshow": {
     "slide_type": ""
    },
    "tags": []
   },
   "outputs": [],
   "source": [
    "! tree"
   ]
  },
  {
   "cell_type": "markdown",
   "metadata": {
    "editable": false,
    "slideshow": {
     "slide_type": ""
    },
    "tags": []
   },
   "source": [
    "We can open the **config.json** file in a text editor to adjust the processing parameters before starting the SARvey workflow. Alternatively, we can read and modify the file programmatically using Python.\n"
   ]
  },
  {
   "cell_type": "markdown",
   "metadata": {
    "editable": false,
    "slideshow": {
     "slide_type": ""
    },
    "tags": []
   },
   "source": [
    "***\n",
    "we define `loadJsonConfig()` and `dumpToJsonConfig()` functions to read and modify the config file."
   ]
  },
  {
   "cell_type": "code",
   "execution_count": null,
   "metadata": {
    "editable": false,
    "slideshow": {
     "slide_type": ""
    },
    "tags": []
   },
   "outputs": [],
   "source": [
    "def loadJsonConfig(config_file):\n",
    "    # Load the contents of config_file into a Python dictionary\n",
    "    with open('config.json', 'r') as f:\n",
    "        config_dict = json.load(f)\n",
    "    return config_dict\n",
    "\n",
    "def dumpToJsonConfig(config_file, config_dict):\n",
    "    # Write the config_dict to config_file\n",
    "    with open(config_file, 'w') as f:\n",
    "        json.dump(config_dict, f, indent=4)\n",
    "        "
   ]
  },
  {
   "cell_type": "code",
   "execution_count": null,
   "metadata": {
    "editable": true,
    "scrolled": true,
    "slideshow": {
     "slide_type": ""
    },
    "tags": []
   },
   "outputs": [],
   "source": [
    "os.chdir(project_dir)\n",
    "\n",
    "# Load the configs\n",
    "config = loadJsonConfig('config.json')\n",
    "\n",
    "# Display the configs\n",
    "config\n"
   ]
  },
  {
   "cell_type": "markdown",
   "metadata": {
    "editable": false,
    "slideshow": {
     "slide_type": ""
    },
    "tags": []
   },
   "source": [
    "The config file has several sections.\n",
    "\n",
    "- **`general`**\n",
    "\n",
    "  This section includes top-level parameters such as the number of cores and the paths to the input and output data.\n",
    "\n",
    "- **`phase_linking`**\n",
    "\n",
    "  This section specifies the Phase Linking parameters. By default, `use_phase_linking_results: false`, i.e, no phase linking is performed.\n",
    "\n",
    "- **`preparation`**\n",
    "\n",
    "  This section includes network parameters and type, and window size used to estimate the temporal coherence.\n",
    "\n",
    "- **`consistency_check`**\n",
    "\n",
    "  This section contains parameters related to the first order points.\n",
    "\n",
    "- **`unwrapping`**\n",
    "\n",
    "  This section will specify parameters related to the unwrapping process.\n",
    "\n",
    "- **`filtering`**\n",
    "\n",
    "  This section defines the parameters for atmospheric estimation and filtering.\n",
    "\n",
    "- **`densification`**\n",
    "\n",
    "  This section includes the settings for second order points.\n"
   ]
  },
  {
   "cell_type": "markdown",
   "metadata": {
    "editable": false,
    "slideshow": {
     "slide_type": ""
    },
    "tags": []
   },
   "source": [
    "Please refer to the [documentation](https://sarvey.readthedocs.io/main/processing.html#configuration-file) for the details of each parameter."
   ]
  },
  {
   "cell_type": "markdown",
   "metadata": {
    "editable": false,
    "slideshow": {
     "slide_type": ""
    },
    "tags": []
   },
   "source": [
    "**SARvey** supports two general modes of processing, depending on the characteristics of the displacement (spatial extent, magnitude, temporal behaviour, etc.):\n",
    "- two-step unwrapping workflow\n",
    "- one-step unwrapping workflow\n"
   ]
  },
  {
   "cell_type": "markdown",
   "metadata": {
    "editable": false,
    "slideshow": {
     "slide_type": ""
    },
    "tags": []
   },
   "source": [
    "We will modify the following parameters before starting the processing:\n",
    "\n",
    "- general\n",
    "    - output_path: 'output_default'\n",
    "    - num_cores: 10\n",
    "\n",
    "You can modify the parameters using a text editor, or run the following cell to modify the `config.json` file."
   ]
  },
  {
   "cell_type": "code",
   "execution_count": null,
   "metadata": {
    "editable": false,
    "slideshow": {
     "slide_type": ""
    },
    "tags": []
   },
   "outputs": [],
   "source": [
    "os.chdir(project_dir)\n",
    "\n",
    "# Load the configs\n",
    "config = loadJsonConfig('config.json')\n",
    "\n",
    "# Modify parameter\n",
    "config['general']['output_path'] = 'output_default'\n",
    "config['general']['num_cores'] = 10\n",
    "\n",
    "dumpToJsonConfig('config.json', config)"
   ]
  },
  {
   "cell_type": "markdown",
   "metadata": {
    "editable": false,
    "slideshow": {
     "slide_type": ""
    },
    "tags": []
   },
   "source": [
    "Now verify the modified config file **`json.config`**"
   ]
  },
  {
   "cell_type": "code",
   "execution_count": null,
   "metadata": {
    "editable": false,
    "slideshow": {
     "slide_type": ""
    },
    "tags": []
   },
   "outputs": [],
   "source": [
    "os.chdir(project_dir)\n",
    "\n",
    "# Load the configs\n",
    "config = loadJsonConfig('config.json')\n",
    "config\n"
   ]
  },
  {
   "cell_type": "markdown",
   "metadata": {
    "editable": true,
    "slideshow": {
     "slide_type": ""
    },
    "tags": []
   },
   "source": [
    "Run [**Step 0: Preparation**](https://sarvey.readthedocs.io/main/processing.html#step-0-preparation) including the following:\n",
    "\n",
    "- Loading the data from the inputs/slcStack.h5\n",
    "\n",
    "- Designing the interferogram network based on the temporal and perpendicular baselines.\n",
    "\n",
    "    - small baseline network (`sb`) (Berardino et al. 2002),\n",
    "    - small temporal baseline network (`stb`) (only consecutive images are used to form interferograms)\n",
    "    - small temporal baselines + yearly interferograms (`stb_yearly`)\n",
    "    - delaunay network (`delaunay`)\n",
    "    - star network (`star`, single-reference network) (Ferretti et al. 2001)\n",
    "\n",
    "- Generating a stack of interferograms\n",
    "\n",
    "- Estimating the temporal coherence\n"
   ]
  },
  {
   "cell_type": "code",
   "execution_count": null,
   "metadata": {
    "editable": false,
    "slideshow": {
     "slide_type": ""
    },
    "tags": []
   },
   "outputs": [],
   "source": [
    "os.chdir(project_dir)\n",
    "\n",
    "! sarvey -f config.json 0 0 "
   ]
  },
  {
   "cell_type": "markdown",
   "metadata": {
    "editable": true,
    "slideshow": {
     "slide_type": ""
    },
    "tags": []
   },
   "source": []
  }
 ],
 "metadata": {
  "colab": {
   "provenance": []
  },
  "kernelspec": {
   "display_name": "Python 3 (ipykernel)",
   "language": "python",
   "name": "python3"
  },
  "language_info": {
   "codemirror_mode": {
    "name": "ipython",
    "version": 3
   },
   "file_extension": ".py",
   "mimetype": "text/x-python",
   "name": "python",
   "nbconvert_exporter": "python",
   "pygments_lexer": "ipython3",
   "version": "3.12.2"
  }
 },
 "nbformat": 4,
 "nbformat_minor": 4
}
