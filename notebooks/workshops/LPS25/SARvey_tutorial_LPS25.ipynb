{
 "cells": [
  {
   "cell_type": "markdown",
   "metadata": {
    "colab_type": "text",
    "id": "view-in-github",
    "slideshow": {
     "slide_type": ""
    },
    "tags": []
   },
   "source": [
    "<a href=\"https://colab.research.google.com/github/mahmud1/sarvey-tutorials/blob/colab/notebooks/workshops/LPS25/SARvey_tutorial_LPS25.ipynb\" target=\"_parent\"><img src=\"https://colab.research.google.com/assets/colab-badge.svg\" alt=\"Open In Colab\"/></a>"
   ]
  },
  {
   "cell_type": "markdown",
   "metadata": {
    "editable": false,
    "id": "VDaSbTJ0oeKO",
    "slideshow": {
     "slide_type": ""
    },
    "tags": []
   },
   "source": [
    "<p>\n",
    "  <img src=\"https://www.uni-hannover.de/typo3conf/ext/luh_website/Resources/Public/Images/Logo/luh_logo.svg\" width=\"128\" />\n",
    "  <img src=\"https://www.ipi.uni-hannover.de/fileadmin/site-templates/logos/ipi/ipi_logo.png\" width=\"38\" />\n",
    "  <img src=\"https://lps25.esa.int/wp-content/themes/lps25/assets/ESA_Logo.svg\" width=\"38\" />\n",
    "</p>\n",
    "\n",
    "#### InSAR Time Series Analysis: Exploring SARvey and InSAR Explorer for Engineering Applications\n",
    "\n",
    "##### Hands-on training @ [ESA Living Planet Symposium, June 2025, Vienna, Austria](https://lps25.esa.int/)\n",
    "\n",
    "\n",
    "##### \n"
   ]
  },
  {
   "cell_type": "markdown",
   "metadata": {
    "deletable": false,
    "editable": false,
    "id": "KCeJMObAJRq8",
    "jp-MarkdownHeadingCollapsed": true,
    "slideshow": {
     "slide_type": ""
    },
    "tags": []
   },
   "source": [
    "---\n",
    "\n",
    "**SARvey** is an open-source tool for analyzing displacement time series from Interferometric Synthetic Aperture Radar (InSAR) data. Designed with engineering applications in mind, it enables precise monitoring of ground deformation through a streamlined processing workflow.\n",
    "\n",
    "Learn more:  \n",
    "- [SARvey GitHub](https://github.com/luhipi/sarvey)  \n",
    "- [Documentation](https://sarvey.readthedocs.io/)  \n",
    "- [How to cite](https://sarvey.readthedocs.io/main/readme.html#how-to-cite)\n",
    "\n",
    "---\n",
    "\n",
    "*Prepared by [Mahmud Haghighi](https://www.ipi.uni-hannover.de/en/haghighi/) and  [Andreas Piter](https://www.ipi.uni-hannover.de/en/piter/)   \n",
    "Institute of Photogrammetry and GeoInformation,  \n",
    "Leibniz University Hannover.*\n"
   ]
  },
  {
   "cell_type": "markdown",
   "metadata": {
    "editable": false,
    "id": "ObaoBl-loeKQ",
    "slideshow": {
     "slide_type": ""
    },
    "tags": []
   },
   "source": [
    "### SARvey workflow"
   ]
  },
  {
   "cell_type": "markdown",
   "metadata": {
    "editable": false,
    "id": "5ZrYPnG-oeKQ",
    "slideshow": {
     "slide_type": ""
    },
    "tags": []
   },
   "source": [
    "SARvey supports data preprocessed using [ISCE](https://github.com/isce-framework/isce2) and [GAMMA](https://www.gamma-rs.ch/gamma-software/gamma-software) software. The coregistered SLC stack and geometry files should be converted to SARvey's input format using [MiaplPy](https://github.com/insarlab/MiaplPy). SARvey has several components including:\n",
    "- `SARvey MTI` performs the time series analysis.  \n",
    "- `SARvey plot` visualizes the results.  \n",
    "- `SARvey export` converts the outputs to GIS-compatible formats.\n",
    "\n",
    "<img src=\"https://seafile.projekt.uni-hannover.de/f/006f702937cd4e618bcb/?dl=1\" width=\"512\">\n"
   ]
  },
  {
   "cell_type": "markdown",
   "metadata": {
    "editable": false,
    "id": "iNDYSUJ-oeKR",
    "slideshow": {
     "slide_type": ""
    },
    "tags": []
   },
   "source": [
    "### Before we start"
   ]
  },
  {
   "cell_type": "markdown",
   "metadata": {
    "editable": false,
    "id": "sul0F8Q9oeKR",
    "jp-MarkdownHeadingCollapsed": true,
    "slideshow": {
     "slide_type": ""
    },
    "tags": []
   },
   "source": [
    "This tutorial uses Jupyter Notebook syntax. Here are a few helpful things to know before running the cells:\n",
    "\n",
    "- `!` at the beginning of a line is used to run shell (terminal) commands directly from the notebook. For example:\n",
    "    - `! ls` — lists files in the current directory\n",
    "    - `! pwd` — prints the current working directory\n",
    "    - `! sarvey -h` — displays the help message for the sarvey command-line interface.\n",
    "\n",
    "**Note**: You do not need the `!` if you are running these commands directly in a terminal (outside of Notebook).\n",
    "\n"
   ]
  },
  {
   "cell_type": "markdown",
   "metadata": {
    "editable": false,
    "id": "Cw_tQkMToeKS",
    "slideshow": {
     "slide_type": ""
    },
    "tags": []
   },
   "source": [
    "## Installation"
   ]
  },
  {
   "cell_type": "markdown",
   "metadata": {
    "editable": false,
    "id": "yQu8WeiLoeKS",
    "slideshow": {
     "slide_type": ""
    },
    "tags": []
   },
   "source": [
    "SARvey can be installed on Linux, MacOS and Windows as explained here: **[SARvey Installation](https://sarvey.readthedocs.io/main/installation.html#installation)**.\n",
    "\n",
    "Run the following cell to install **SARvey** along with its required dependencies.  This tutorial works with SARvey tag **[tut-lps25](https://github.com/luhipi/sarvey/releases/tag/tut-lps25)**."
   ]
  },
  {
   "cell_type": "code",
   "execution_count": null,
   "metadata": {
    "editable": false,
    "id": "dNiMGWoroeKT",
    "slideshow": {
     "slide_type": ""
    },
    "tags": []
   },
   "outputs": [],
   "source": [
    "! pip install git+https://github.com/luhipi/sarvey.git@tut-lps25 --quiet"
   ]
  },
  {
   "cell_type": "markdown",
   "metadata": {
    "editable": false,
    "id": "iS2TC93moeKT",
    "slideshow": {
     "slide_type": ""
    },
    "tags": []
   },
   "source": [
    "After installation, run the following cell to verify that **SARvey** is installed correctly. If you encounter errors like `command not found` or `unknown command`, it indicates that the software is not installed properly.\n"
   ]
  },
  {
   "cell_type": "code",
   "execution_count": null,
   "metadata": {
    "editable": false,
    "id": "Vn2iC_v3oeKU",
    "slideshow": {
     "slide_type": ""
    },
    "tags": []
   },
   "outputs": [],
   "source": [
    "! sarvey -h"
   ]
  },
  {
   "cell_type": "markdown",
   "metadata": {
    "editable": false,
    "id": "whbcRXcroeKU",
    "slideshow": {
     "slide_type": ""
    },
    "tags": []
   },
   "source": [
    "## Install and import other packages"
   ]
  },
  {
   "cell_type": "markdown",
   "metadata": {
    "editable": false,
    "id": "xgZQWBAKoeKU",
    "slideshow": {
     "slide_type": ""
    },
    "tags": []
   },
   "source": [
    "Install additional packages required for this tutorial."
   ]
  },
  {
   "cell_type": "code",
   "execution_count": null,
   "metadata": {
    "editable": false,
    "id": "24vVlynqoeKU",
    "slideshow": {
     "slide_type": ""
    },
    "tags": []
   },
   "outputs": [],
   "source": [
    "# install tree\n",
    "! apt-get -qq install tree"
   ]
  },
  {
   "cell_type": "markdown",
   "metadata": {
    "editable": false,
    "id": "zJ1viHVDoeKU",
    "slideshow": {
     "slide_type": ""
    },
    "tags": []
   },
   "source": [
    "Imports essential Python libraries required for this tutorial."
   ]
  },
  {
   "cell_type": "code",
   "execution_count": null,
   "metadata": {
    "editable": false,
    "id": "uh2lQtyNoeKU",
    "scrolled": true,
    "slideshow": {
     "slide_type": ""
    },
    "tags": []
   },
   "outputs": [],
   "source": [
    "import os\n",
    "from IPython.display import display, Image, JSON, Markdown\n",
    "from matplotlib import pyplot as plt\n",
    "import numpy as np\n",
    "import h5py as h5\n",
    "import json5 as json"
   ]
  },
  {
   "cell_type": "markdown",
   "metadata": {
    "editable": false,
    "id": "8tENsFOioeKU",
    "slideshow": {
     "slide_type": ""
    },
    "tags": []
   },
   "source": [
    "## Download data"
   ]
  },
  {
   "cell_type": "markdown",
   "metadata": {
    "editable": false,
    "id": "3PD0PSnioeKU",
    "slideshow": {
     "slide_type": ""
    },
    "tags": []
   },
   "source": [
    "**Background**\n",
    "\n",
    "<img src=\"https://upload.wikimedia.org/wikipedia/commons/thumb/c/c7/Masdsched-Soleyman-Dam.JPG/1920px-Masdsched-Soleyman-Dam.JPG\" width=\"256\">\n",
    "\n",
    "Image from: *Uni.Royal*, CC BY-SA 4.0 \n",
    "\n",
    "---\n",
    "\n",
    "This tutorial focuses on measuring the post-construction settlement of **Masjed Soleyman Dam**. It is a rock-fill dam on the Karun river, opened in 2002. Previous investigations using GNSS and high-resolution TerraSAR-X data, have shown substantial post-construction settlement of the dam. TerraSAR-X results show that the dam undergoes a maximum deformation rate of 13 cm/year in the radar line-of-sight ([Emadali, Motagh & Haghighi, 2017](https://www.sciencedirect.com/science/article/pii/S0141029617311525)).\n",
    "\n",
    "---\n",
    "\n",
    "**TerraSAR-X** SpotLight interferograms in descending orbit show progressive displacement relative to the reference image on 7 March 2014. One full colour cycle corresponds to 3.1 cm of LOS motion. Red rectangle delineates deformation area related to the crest, marked with dashed black line, and its adjacent area downstream.\n",
    "\n",
    "<img src=\"https://ars.els-cdn.com/content/image/1-s2.0-S0141029617311525-gr8.jpg\" width=\"512\">\n",
    "\n",
    "---\n",
    "\n",
    "Average 2014–2015 LOS displacement rate from TerraSAR-X SpotLight data overlaid on a Google Earth™ image.\n",
    "\n",
    "\n",
    "<img src=\"https://ars.els-cdn.com/content/image/1-s2.0-S0141029617311525-gr10.jpg\" width=\"512\">"
   ]
  },
  {
   "cell_type": "markdown",
   "metadata": {
    "editable": false,
    "id": "63MFb236oeKV",
    "slideshow": {
     "slide_type": ""
    },
    "tags": []
   },
   "source": [
    "**Demo Dataset**: Masjed Soleyman Dam\n",
    "\n",
    "**Dataset Highlights:**\n",
    "- **Location:** Masjed Soleyman Dam, Iran\n",
    "- **Sensor:** Sentinel-1\n",
    "- **Number of images:** 291\n",
    "- **Temporal interval:** 2015.01.05-2022.03.17\n",
    "- **Data Type:** Coregistered stack of SLCs with corresponding geometry information\n",
    "\n",
    "---"
   ]
  },
  {
   "cell_type": "markdown",
   "metadata": {
    "editable": false,
    "id": "BENaWnL2oeKV",
    "slideshow": {
     "slide_type": ""
    },
    "tags": []
   },
   "source": [
    "Specify the working directory.\n",
    "On **Google Colab**, the working directory should be\n",
    "<prep> \n",
    "``` python\n",
    "work_dir = '/content'\n",
    "```\n",
    "</prep>"
   ]
  },
  {
   "cell_type": "code",
   "execution_count": null,
   "metadata": {
    "editable": false,
    "id": "1joXGliYoeKV",
    "slideshow": {
     "slide_type": ""
    },
    "tags": []
   },
   "outputs": [],
   "source": [
    "# specify working directory. On Google Colab it should be '/content'\n",
    "work_dir = '/content'"
   ]
  },
  {
   "cell_type": "markdown",
   "metadata": {
    "editable": false,
    "id": "B-MumEHUoeKV",
    "slideshow": {
     "slide_type": ""
    },
    "tags": []
   },
   "source": [
    "Run the following cell to downloat the data and unzip it."
   ]
  },
  {
   "cell_type": "code",
   "execution_count": null,
   "metadata": {
    "editable": false,
    "id": "cxVmKXmioeKV",
    "slideshow": {
     "slide_type": ""
    },
    "tags": []
   },
   "outputs": [],
   "source": [
    "# Change the directory\n",
    "os.chdir(work_dir)\n",
    "\n",
    "# Download data\n",
    "! wget  -N https://seafile.cloud.uni-hannover.de/f/6bf916a2fba6404ab439/?dl=1  -O Masjed_Soleyman_Dam_S1_dsc_2015_2022.zip\n",
    "\n",
    "# Unzip data into masjed_s1 directory\n",
    "! unzip -q -o Masjed_Soleyman_Dam_S1_dsc_2015_2022.zip\n",
    "\n",
    "# Rename the extracted folder\n",
    "! mv Masjed_Soleyman_Dam_S1_dsc_2015_2022 masjed_s1\n",
    "\n",
    "# Define the project directory path as a variable\n",
    "project_dir=os.path.join(work_dir, 'masjed_s1')\n"
   ]
  },
  {
   "cell_type": "markdown",
   "metadata": {
    "editable": false,
    "id": "tG22JJqkoeKV",
    "slideshow": {
     "slide_type": ""
    },
    "tags": []
   },
   "source": [
    "## Check the input data"
   ]
  },
  {
   "cell_type": "markdown",
   "metadata": {
    "editable": false,
    "id": "4GUzj8PyoeKV",
    "slideshow": {
     "slide_type": ""
    },
    "tags": []
   },
   "source": [
    "A typical directory structure to run SARvey looks like the following:\n",
    "```\n",
    "📂 project_folder/\n",
    "  │── 📁 inputs/               # SARvey inputs\n",
    "  │     ├── slcStack.h5        # stack of resampled SLCs\n",
    "  │     └── geometryRadar.h5   # geometry in Radar coordinates\n",
    "  ├── 📁 outputs/              # SARvey outputs\n",
    "  └── 📄 config.json           # SARvey processing configuration\n",
    "```\n",
    "\n",
    "The input to SARvey are the `slcStack.h5` and `geometryRadar.h5`.\n"
   ]
  },
  {
   "cell_type": "markdown",
   "metadata": {
    "editable": false,
    "id": "Ozlb1irxoeKV",
    "slideshow": {
     "slide_type": ""
    },
    "tags": []
   },
   "source": [
    "Let's check the directory structure of the downloaded data using `tree` command. You can also browse the files in the `Files` section (left panel)."
   ]
  },
  {
   "cell_type": "code",
   "execution_count": null,
   "metadata": {
    "editable": false,
    "id": "cyP4Uv3GoeKV",
    "slideshow": {
     "slide_type": ""
    },
    "tags": []
   },
   "outputs": [],
   "source": [
    "# Navigate to the project directory\n",
    "os.chdir(project_dir)\n",
    "\n",
    "# Display the directory structure in a tree-like format\n",
    "! tree\n"
   ]
  },
  {
   "cell_type": "markdown",
   "metadata": {
    "editable": false,
    "id": "cpYaCFrfoeKW",
    "slideshow": {
     "slide_type": ""
    },
    "tags": []
   },
   "source": [
    "***\n",
    "It is a good practice to use MintPy `info.py` functions to verify the metadata of the input files before starting the SARvey processing."
   ]
  },
  {
   "cell_type": "code",
   "execution_count": null,
   "metadata": {
    "editable": false,
    "id": "Ji-ivrdKoeKW",
    "slideshow": {
     "slide_type": ""
    },
    "tags": []
   },
   "outputs": [],
   "source": [
    "## Navigate to the input directory\n",
    "os.chdir(project_dir+'/inputs')\n",
    "\n",
    "# Display metadata and structure of the 'slcStack.h5' file\n",
    "! info.py slcStack.h5\n"
   ]
  },
  {
   "cell_type": "markdown",
   "metadata": {
    "editable": false,
    "id": "YizUWdsxoeKW",
    "slideshow": {
     "slide_type": ""
    },
    "tags": []
   },
   "source": [
    "There are more information that you can get using `info.py`. For example, you can run the following to get a list of image dates in the slcStack.h5 file.\n",
    "\n",
    "<prep> \n",
    "``` sh\n",
    "info.py slcStack.h5 --num\n",
    "```\n",
    "</prep>"
   ]
  },
  {
   "cell_type": "code",
   "execution_count": null,
   "metadata": {
    "editable": true,
    "slideshow": {
     "slide_type": ""
    },
    "tags": []
   },
   "outputs": [],
   "source": []
  },
  {
   "cell_type": "markdown",
   "metadata": {
    "editable": false,
    "id": "sPn1u8ZAoeKW",
    "slideshow": {
     "slide_type": ""
    },
    "tags": []
   },
   "source": [
    "***\n",
    "You can also use MintPy `view.py` functions to visualize the input fles before starting the SARvey processing."
   ]
  },
  {
   "cell_type": "code",
   "execution_count": null,
   "metadata": {
    "editable": false,
    "id": "OSIY8ej1oeKW",
    "slideshow": {
     "slide_type": ""
    },
    "tags": []
   },
   "outputs": [],
   "source": [
    "## Navigate to the input directory\n",
    "os.chdir(project_dir+'/inputs')\n",
    "\n",
    "# Use the view.py command to create geometryRadar.png\n",
    "! view.py geometryRadar.h5 --save --noverbose --update\n",
    "\n",
    "# Show the image in notebook\n",
    "Image(filename='geometryRadar.png')"
   ]
  },
  {
   "cell_type": "markdown",
   "metadata": {
    "editable": false,
    "id": "CVPn8NLloeKW",
    "slideshow": {
     "slide_type": ""
    },
    "tags": []
   },
   "source": [
    "`view.py` can also be used to show the amplitudes from the slcStack, but it might be time-consuming, depending on the data size"
   ]
  },
  {
   "cell_type": "markdown",
   "metadata": {
    "editable": false,
    "id": "QbPYbvcaoeKW",
    "slideshow": {
     "slide_type": ""
    },
    "tags": []
   },
   "source": [
    "***\n",
    "Both input files are in HDF5 format and can be examined using a simple script with the `h5py` library. First, we define `showMeanAmplitude()` function to extract mean amplitude of first 25 images in slcStack.h5 and then call the function."
   ]
  },
  {
   "cell_type": "code",
   "execution_count": null,
   "metadata": {
    "editable": false,
    "id": "ppGjVdoBoeKk",
    "slideshow": {
     "slide_type": ""
    },
    "tags": []
   },
   "outputs": [],
   "source": [
    "def showMeanAmplitude(slc_file='inputs/slcStack.h5', n=25):\n",
    "    # Open the HDF5 file containing the SLC stack\n",
    "    with h5.File(slc_file, 'r') as f:\n",
    "        if n>=f['slc'].shape[0]:\n",
    "            print(f'Image index {n} exceeds the number of available images.')\n",
    "            return\n",
    "        # Extract the image 0 to n from the stack\n",
    "        slc_stack = f['slc'][0:n,:,:]\n",
    "\n",
    "    # Compute mean amplitude of the complex SLC image\n",
    "    slc_amp = np.mean(np.abs(slc_stack), axis=0)\n",
    "\n",
    "    plt.figure(figsize=(20,3))\n",
    "    plt.imshow(np.log10(slc_amp), cmap='gray')\n",
    "    plt.xlabel('[Range]')\n",
    "    plt.ylabel('[Azimuth]')\n",
    "    plt.title(f'Mean Amplitude of image 0-{n} in dB')\n",
    "    plt.colorbar()\n",
    "    plt.show()\n"
   ]
  },
  {
   "cell_type": "code",
   "execution_count": null,
   "metadata": {
    "editable": false,
    "id": "sUy4vMjaoeKk",
    "slideshow": {
     "slide_type": ""
    },
    "tags": []
   },
   "outputs": [],
   "source": [
    "os.chdir(project_dir)\n",
    "\n",
    "showMeanAmplitude()"
   ]
  },
  {
   "cell_type": "markdown",
   "metadata": {
    "editable": false,
    "id": "n-l0fArvoeKl",
    "slideshow": {
     "slide_type": ""
    },
    "tags": []
   },
   "source": [
    "## SARvey processing"
   ]
  },
  {
   "cell_type": "markdown",
   "metadata": {
    "editable": false,
    "id": "6VWxathDoeKl",
    "slideshow": {
     "slide_type": ""
    },
    "tags": []
   },
   "source": [
    "We first run `sarvey -h` to see the quick help. Please also refer to the full documentation to see the details of processing. Run the following command to see the quick help:\n",
    "\n",
    "`! sarvey -h`"
   ]
  },
  {
   "cell_type": "code",
   "execution_count": null,
   "metadata": {
    "editable": true,
    "slideshow": {
     "slide_type": ""
    },
    "tags": []
   },
   "outputs": [],
   "source": []
  },
  {
   "cell_type": "markdown",
   "metadata": {
    "editable": false,
    "id": "sIC4YB-foeKl",
    "slideshow": {
     "slide_type": ""
    },
    "tags": []
   },
   "source": [
    "#### Generate config file"
   ]
  },
  {
   "cell_type": "markdown",
   "metadata": {
    "editable": false,
    "id": "m-brY3YaoeKl",
    "slideshow": {
     "slide_type": ""
    },
    "tags": []
   },
   "source": [
    "The first step in the processing workflow is to generate the configuration file using the command:\n",
    "\n",
    "<prep>\n",
    "``` sh\n",
    "    sarvey -f config.json 0 0 -g\n",
    "```\n",
    "</prep>\n",
    "\n",
    "The **`-g`** flag instructs SARvey to generate a default config.json file. Although the command includes **`0 0`** as step indices, no processing steps will actually be executed when **`-g`** is used. Instead, the command will only create the configuration file.\n"
   ]
  },
  {
   "cell_type": "code",
   "execution_count": null,
   "metadata": {
    "editable": false,
    "id": "D1xcAU1XoeKl",
    "slideshow": {
     "slide_type": ""
    },
    "tags": []
   },
   "outputs": [],
   "source": [
    "os.chdir(project_dir)\n",
    "\n",
    "! sarvey -f config.json 0 0 -g"
   ]
  },
  {
   "cell_type": "markdown",
   "metadata": {
    "editable": false,
    "id": "9D0GGYYwoeKl",
    "slideshow": {
     "slide_type": ""
    },
    "tags": []
   },
   "source": [
    "List the directory contents to confirm that **config.json** was successfully created."
   ]
  },
  {
   "cell_type": "code",
   "execution_count": null,
   "metadata": {
    "editable": false,
    "id": "OMc3YIB2oeKl",
    "slideshow": {
     "slide_type": ""
    },
    "tags": []
   },
   "outputs": [],
   "source": [
    "! tree"
   ]
  },
  {
   "cell_type": "markdown",
   "metadata": {
    "editable": false,
    "id": "6mQHOA7loeKl",
    "slideshow": {
     "slide_type": ""
    },
    "tags": []
   },
   "source": [
    "We can open the **config.json** file in a text editor to adjust the processing parameters before starting the SARvey workflow. Alternatively, we can read and modify the file programmatically using Python.\n"
   ]
  },
  {
   "cell_type": "markdown",
   "metadata": {
    "editable": false,
    "id": "tDAXTa5zoeKl",
    "slideshow": {
     "slide_type": ""
    },
    "tags": []
   },
   "source": [
    "***\n",
    "we define `loadJsonConfig()` and `dumpToJsonConfig()` functions to read and modify the config file."
   ]
  },
  {
   "cell_type": "code",
   "execution_count": null,
   "metadata": {
    "editable": false,
    "id": "KRQwWwW4oeKl",
    "slideshow": {
     "slide_type": ""
    },
    "tags": []
   },
   "outputs": [],
   "source": [
    "def loadJsonConfig(config_file):\n",
    "    # Load the contents of config_file into a Python dictionary\n",
    "    with open('config.json', 'r') as f:\n",
    "        config_dict = json.load(f)\n",
    "    return config_dict\n",
    "\n",
    "def dumpToJsonConfig(config_file, config_dict):\n",
    "    # Write the config_dict to config_file\n",
    "    with open(config_file, 'w') as f:\n",
    "        json.dump(config_dict, f, indent=4)\n"
   ]
  },
  {
   "cell_type": "code",
   "execution_count": null,
   "metadata": {
    "editable": false,
    "id": "r_Vyh26QoeKl",
    "scrolled": true,
    "slideshow": {
     "slide_type": ""
    },
    "tags": []
   },
   "outputs": [],
   "source": [
    "os.chdir(project_dir)\n",
    "\n",
    "# Load the configs\n",
    "config = loadJsonConfig('config.json')\n",
    "\n",
    "# Display the configs\n",
    "config\n"
   ]
  },
  {
   "cell_type": "markdown",
   "metadata": {
    "editable": false,
    "id": "QxCGeNGToeKl",
    "slideshow": {
     "slide_type": ""
    },
    "tags": []
   },
   "source": [
    "The config file has several sections.\n",
    "\n",
    "- **`general`**\n",
    "\n",
    "  This section includes top-level parameters such as the number of cores and the paths to the input and output data.\n",
    "\n",
    "- **`phase_linking`**\n",
    "\n",
    "  This section specifies the Phase Linking parameters. By default, `use_phase_linking_results: false`, i.e, no phase linking is performed.\n",
    "\n",
    "- **`preparation`**\n",
    "\n",
    "  This section includes network parameters and type, and window size used to estimate the temporal coherence.\n",
    "\n",
    "- **`consistency_check`**\n",
    "\n",
    "  This section contains parameters related to the first order points.\n",
    "\n",
    "- **`unwrapping`**\n",
    "\n",
    "  This section will specify parameters related to the unwrapping process.\n",
    "\n",
    "- **`filtering`**\n",
    "\n",
    "  This section defines the parameters for atmospheric estimation and filtering.\n",
    "\n",
    "- **`densification`**\n",
    "\n",
    "  This section includes the settings for second order points.\n"
   ]
  },
  {
   "cell_type": "markdown",
   "metadata": {
    "editable": false,
    "id": "3idqz9qJoeKl",
    "slideshow": {
     "slide_type": ""
    },
    "tags": []
   },
   "source": [
    "Please refer to the [documentation](https://sarvey.readthedocs.io/main/processing.html#configuration-file) for the details of each parameter."
   ]
  },
  {
   "cell_type": "markdown",
   "metadata": {
    "editable": false,
    "id": "HlSsAqlloeKm",
    "slideshow": {
     "slide_type": ""
    },
    "tags": []
   },
   "source": [
    "**SARvey** supports two general modes of processing, depending on the characteristics of the displacement (spatial extent, magnitude, temporal behaviour, etc.):\n",
    "- two-step unwrapping workflow\n",
    "- one-step unwrapping workflow\n"
   ]
  },
  {
   "cell_type": "markdown",
   "metadata": {
    "editable": false,
    "id": "QOXCF9PmoeKm",
    "slideshow": {
     "slide_type": ""
    },
    "tags": []
   },
   "source": [
    "We will modify the following parameters before starting the processing:\n",
    "\n",
    "- general\n",
    "    - output_path: 'output_sb'\n",
    "    - num_cores: 10\n",
    "\n",
    "You can modify the parameters using a text editor, or run the following cell to modify the `config.json` file."
   ]
  },
  {
   "cell_type": "code",
   "execution_count": null,
   "metadata": {
    "editable": false,
    "id": "oBOLcaxCoeKm",
    "slideshow": {
     "slide_type": ""
    },
    "tags": []
   },
   "outputs": [],
   "source": [
    "os.chdir(project_dir)\n",
    "\n",
    "# Load the configs\n",
    "config = loadJsonConfig('config.json')\n",
    "\n",
    "# Modify parameter\n",
    "config['general']['output_path'] = 'output_sb'\n",
    "config['general']['num_cores'] = 10\n",
    "\n",
    "dumpToJsonConfig('config.json', config)"
   ]
  },
  {
   "cell_type": "markdown",
   "metadata": {
    "editable": false,
    "id": "vFUM8E0voeKm",
    "slideshow": {
     "slide_type": ""
    },
    "tags": []
   },
   "source": [
    "Now verify the modified config file **`json.config`**"
   ]
  },
  {
   "cell_type": "code",
   "execution_count": null,
   "metadata": {
    "editable": false,
    "id": "Ya5M-IdpoeKm",
    "slideshow": {
     "slide_type": ""
    },
    "tags": []
   },
   "outputs": [],
   "source": [
    "os.chdir(project_dir)\n",
    "\n",
    "# Load the configs\n",
    "config = loadJsonConfig('config.json')\n",
    "config\n"
   ]
  },
  {
   "cell_type": "markdown",
   "metadata": {
    "editable": false,
    "id": "LiP28O5WoeKm",
    "slideshow": {
     "slide_type": ""
    },
    "tags": []
   },
   "source": [
    "#### Step 0: Preparation"
   ]
  },
  {
   "cell_type": "markdown",
   "metadata": {
    "editable": false,
    "id": "J6P20bXjoeKm",
    "slideshow": {
     "slide_type": ""
    },
    "tags": []
   },
   "source": [
    "Run [**Step 0: Preparation**](https://sarvey.readthedocs.io/main/processing.html#step-0-preparation) including the following:\n",
    "\n",
    "- Loading the data from the inputs/slcStack.h5\n",
    "- Designing the interferogram network based on the temporal and perpendicular baselines.\n",
    "- Generating a stack of interferograms\n",
    "- Estimating the temporal coherence\n"
   ]
  },
  {
   "cell_type": "markdown",
   "metadata": {
    "editable": false,
    "id": "JPlAyr2uoeKm",
    "slideshow": {
     "slide_type": ""
    },
    "tags": []
   },
   "source": [
    "Currently 5 different networks of interfegograms are supported by SARvey including:\n",
    "\n",
    "- small baseline network (`sb`) (Berardino et al. 2002),\n",
    "- star network (`star`, single-reference network) (Ferretti et al. 2001)\n"
   ]
  },
  {
   "cell_type": "markdown",
   "metadata": {
    "editable": false,
    "slideshow": {
     "slide_type": ""
    },
    "tags": []
   },
   "source": [
    "<img src=\"https://raw.githubusercontent.com/luhipi/sarvey-tutorials/main/notebooks/SARvey_tutorial_01/pics/networks_star_sb.svg\" width=\"512\">\n"
   ]
  },
  {
   "cell_type": "code",
   "execution_count": null,
   "metadata": {
    "editable": false,
    "id": "I_k73yC_oeKm",
    "slideshow": {
     "slide_type": ""
    },
    "tags": []
   },
   "outputs": [],
   "source": [
    "os.chdir(project_dir)\n",
    "\n",
    "! sarvey -f config.json 0 0"
   ]
  },
  {
   "cell_type": "markdown",
   "metadata": {
    "editable": false,
    "id": "iUORAEsKoeKm",
    "slideshow": {
     "slide_type": ""
    },
    "tags": []
   },
   "source": [
    "Typical output of this step are\n",
    "- background_map.h5\n",
    "- ifg_stack.h5\n",
    "- coordinates_utm.h5\n",
    "- ifg_network.h5\n",
    "- temporal_coherence.h5\n",
    "\n",
    "Also, some snapshots are created in `pic` directory."
   ]
  },
  {
   "cell_type": "markdown",
   "metadata": {
    "editable": false,
    "id": "xTSrm86toeKm",
    "slideshow": {
     "slide_type": ""
    },
    "tags": []
   },
   "source": [
    "We can now check the list output files with `tree`"
   ]
  },
  {
   "cell_type": "code",
   "execution_count": null,
   "metadata": {
    "editable": false,
    "id": "vnpaHNqUoeKm",
    "slideshow": {
     "slide_type": ""
    },
    "tags": []
   },
   "outputs": [],
   "source": [
    "! tree"
   ]
  },
  {
   "cell_type": "markdown",
   "metadata": {
    "editable": false,
    "id": "USSWX6FKoeKm",
    "slideshow": {
     "slide_type": ""
    },
    "tags": []
   },
   "source": [
    "Now you can check the files created in pic directory."
   ]
  },
  {
   "cell_type": "code",
   "execution_count": null,
   "metadata": {
    "editable": false,
    "id": "YEYuRpoWoeKm",
    "slideshow": {
     "slide_type": ""
    },
    "tags": []
   },
   "outputs": [],
   "source": [
    "# Display Mean Amplitude image\n",
    "Image(filename='output_sb/pic/step_0_amplitude_image.png')\n"
   ]
  },
  {
   "cell_type": "markdown",
   "metadata": {
    "editable": false,
    "id": "JJkR84QGoeKm",
    "slideshow": {
     "slide_type": ""
    },
    "tags": []
   },
   "source": [
    "**Note**: note that the amplitude image is flipped."
   ]
  },
  {
   "cell_type": "code",
   "execution_count": null,
   "metadata": {
    "editable": false,
    "id": "lte-DRquoeKm",
    "slideshow": {
     "slide_type": ""
    },
    "tags": []
   },
   "outputs": [],
   "source": [
    "# Display Interferogram Network\n",
    "Image(filename='output_sb/pic/step_0_interferogram_network.png')\n"
   ]
  },
  {
   "cell_type": "code",
   "execution_count": null,
   "metadata": {
    "editable": false,
    "id": "n9709EFSoeKn",
    "slideshow": {
     "slide_type": ""
    },
    "tags": []
   },
   "outputs": [],
   "source": [
    "# Display Temporal Phase Coherence\n",
    "Image(filename='output_sb/pic/step_0_temporal_phase_coherence.png')\n"
   ]
  },
  {
   "cell_type": "markdown",
   "metadata": {
    "editable": false,
    "id": "2BLoKZgtoeKn",
    "slideshow": {
     "slide_type": ""
    },
    "tags": []
   },
   "source": [
    "Pixel selection is one of the major steps of InSAR time series analysis. To identify pixels that preserve phase quality, **Temporal Phase Coherence (TPC)** as proposed by [Zhao, et al., 2019](https://ieeexplore.ieee.org/document/8764576) is estimated in **step 0**. First, we estimate the phase noise for each pixel $p$ in each interferogram $i$ in the stack of $M$ interferograms.\n",
    "\n",
    "\\begin{equation}\n",
    "    \\psi_{\\text{noise}}^{i,p} \\approx \\psi_{\\text{central}}^{i,p} - \\widetilde{\\psi}_{\\text{neigh}}^{i,p}\n",
    "\\end{equation}"
   ]
  },
  {
   "cell_type": "markdown",
   "metadata": {
    "deletable": false,
    "editable": false,
    "id": "fdRUXsrNoeKn",
    "slideshow": {
     "slide_type": ""
    },
    "tags": []
   },
   "source": [
    "<img src=\"https://raw.githubusercontent.com/luhipi/sarvey-tutorials/main/notebooks/SARvey_tutorial_01/pics/temporal_phase_coherence.svg\" width=\"256\">\n"
   ]
  },
  {
   "cell_type": "markdown",
   "metadata": {
    "editable": false,
    "id": "gxNLmn2FoeKn",
    "slideshow": {
     "slide_type": ""
    },
    "tags": []
   },
   "source": [
    "Then, we calculate temporal phase coherence from the phase noise.\n",
    "\n",
    "\\begin{equation}\n",
    "    \\widehat{\\gamma}{^{\\,p}_{} = \\frac{1}{M} \\cdot \\big| \\sum_{i=1}^{M} e^{j \\psi_{\\text{noise}}^{i,p}}} \\big|\n",
    "\\end{equation}\n"
   ]
  },
  {
   "cell_type": "markdown",
   "metadata": {
    "editable": false,
    "id": "HfmT43JioeKn",
    "slideshow": {
     "slide_type": ""
    },
    "tags": []
   },
   "source": [
    "We will use temporal phase coherence to select first-order and second-order points.\n"
   ]
  },
  {
   "cell_type": "markdown",
   "metadata": {
    "editable": false,
    "id": "g10UlPA-oeKn",
    "slideshow": {
     "slide_type": ""
    },
    "tags": []
   },
   "source": [
    "#### Step 1: Consistency Check"
   ]
  },
  {
   "cell_type": "markdown",
   "metadata": {
    "editable": false,
    "id": "Xoa5iNvIoeKn",
    "slideshow": {
     "slide_type": ""
    },
    "tags": []
   },
   "source": [
    "Run [**Step 1: Consistency Check**](https://sarvey.readthedocs.io/main/processing.html#step-1-consistency-check) including the following:\n",
    "\n",
    "- Selecting candidates for first order points\n",
    "- Creating a spatial network\n",
    "- Temporal unwrapping\n",
    "- Performing a consistency check on the data\n"
   ]
  },
  {
   "cell_type": "markdown",
   "metadata": {
    "editable": false,
    "id": "D7_OHkKzoeKn",
    "slideshow": {
     "slide_type": ""
    },
    "tags": []
   },
   "source": [
    "First check the parameters step 1 in the config file."
   ]
  },
  {
   "cell_type": "code",
   "execution_count": null,
   "metadata": {
    "editable": false,
    "id": "A_rAhDicoeKn",
    "scrolled": true,
    "slideshow": {
     "slide_type": ""
    },
    "tags": []
   },
   "outputs": [],
   "source": [
    "os.chdir(project_dir)\n",
    "\n",
    "# Load the configs\n",
    "config = loadJsonConfig('config.json')\n",
    "config['consistency_check']\n"
   ]
  },
  {
   "cell_type": "markdown",
   "metadata": {
    "editable": false,
    "id": "rYbb-ArzoeKn",
    "slideshow": {
     "slide_type": ""
    },
    "tags": []
   },
   "source": [
    "We do not change any parameters and run step 1."
   ]
  },
  {
   "cell_type": "code",
   "execution_count": null,
   "metadata": {
    "editable": false,
    "id": "Hxi_RubsoeKn",
    "slideshow": {
     "slide_type": ""
    },
    "tags": []
   },
   "outputs": [],
   "source": [
    "os.chdir(project_dir)\n",
    "\n",
    "! sarvey -f config.json 1 1"
   ]
  },
  {
   "cell_type": "markdown",
   "metadata": {
    "editable": false,
    "id": "9Dq0ywi6oeKn",
    "slideshow": {
     "slide_type": ""
    },
    "tags": []
   },
   "source": [
    "Typical output of this step are\n",
    "- point_network.h5\n",
    "- point_network_parameter.h5\n",
    "- p1_ifg_wr.h5\n",
    "\n",
    "Also, some snapshots are created in `pic` directory."
   ]
  },
  {
   "cell_type": "markdown",
   "metadata": {
    "editable": false,
    "id": "x2ZHnYcwoeKn",
    "slideshow": {
     "slide_type": ""
    },
    "tags": []
   },
   "source": [
    "We can now check the list output files with `! tree` in the following cell."
   ]
  },
  {
   "cell_type": "code",
   "execution_count": null,
   "metadata": {
    "editable": true,
    "id": "dxVGsgBDoeKn",
    "slideshow": {
     "slide_type": ""
    },
    "tags": []
   },
   "outputs": [],
   "source": []
  },
  {
   "cell_type": "markdown",
   "metadata": {
    "editable": false,
    "slideshow": {
     "slide_type": ""
    },
    "tags": []
   },
   "source": [
    "Then you can visualize the selected first order points by running:\n",
    "<prep>\n",
    "``` python \n",
    "Image(filename='output_sb/pic/selected_pixels_temp_coh_0.9.png')\n",
    "```\n",
    "</prep>"
   ]
  },
  {
   "cell_type": "code",
   "execution_count": null,
   "metadata": {
    "editable": true,
    "id": "agTVn0k3oeKn",
    "slideshow": {
     "slide_type": ""
    },
    "tags": []
   },
   "outputs": [],
   "source": []
  },
  {
   "attachments": {},
   "cell_type": "markdown",
   "metadata": {
    "editable": false,
    "slideshow": {
     "slide_type": ""
    },
    "tags": []
   },
   "source": [
    "Candidates for first-order points are selected based on a threshold for temporal phase coherence. "
   ]
  },
  {
   "cell_type": "markdown",
   "metadata": {
    "editable": false,
    "slideshow": {
     "slide_type": ""
    },
    "tags": []
   },
   "source": [
    "<img src=\"https://raw.githubusercontent.com/luhipi/sarvey-tutorials/main/notebooks/SARvey_tutorial_01/pics/p1_selection.svg\" width=\"384\">"
   ]
  },
  {
   "cell_type": "markdown",
   "metadata": {
    "editable": false,
    "slideshow": {
     "slide_type": ""
    },
    "tags": []
   },
   "source": [
    "A network is then constructed to connect these first-order points, with the connections between points referred to as arcs. For each arc $pq$, we have $M$ double-difference phase observations $\\psi^{i,pq}$. We estimate the velocity difference, $v^{pq}$, and topography error difference, $h^{pq}$, that maximize the temporal phase coherence of the arc $\\widehat{\\gamma}^{pq}$.\n",
    "\n",
    "\\begin{equation}\n",
    "\\mathrm{argmax}_{v^{l}, h^{pq}}\\,\\widehat{\\gamma}^{pq}=\\frac{1}{M}\\cdot\\left|\\sum_{i=1}^{M}e^{j\\cdot\\psi_{\\text{res}}^{i,pq}\\left(v^{pq},h^{pq}\\right)}\\right|\n",
    "\\end{equation}\n"
   ]
  },
  {
   "cell_type": "markdown",
   "metadata": {
    "editable": false,
    "slideshow": {
     "slide_type": ""
    },
    "tags": []
   },
   "source": [
    "<img src=\"https://raw.githubusercontent.com/luhipi/sarvey-tutorials/main/notebooks/SARvey_tutorial_01/pics/arc_phase_solution.svg\" width=\"384\">"
   ]
  },
  {
   "cell_type": "markdown",
   "metadata": {
    "editable": true,
    "slideshow": {
     "slide_type": ""
    },
    "tags": []
   },
   "source": [
    "You can display the outputs using the following commands:\n",
    "\n",
    "Display arcs:\n",
    "\n",
    "<prep>\n",
    "``` python \n",
    "Image(filename='output_sb/pic/step_1_arc_coherence.png')`\n",
    "```\n",
    "</prep>\n",
    "\n",
    "Display Arcs after removing inconsistent arcs/points:\n",
    "\n",
    "<prep>\n",
    "``` python \n",
    "Image(filename='output_sb/pic/step_1_arc_coherence_reduced.png')`\n",
    "```\n",
    "</prep>\n",
    "\n",
    "Display Velocity RMSE:\n",
    "\n",
    "<prep>\n",
    "``` python \n",
    "Image(filename='output_sb/pic/step_1_rmse_vel_0th_iter.png')`\n",
    "```\n",
    "</prep>\n",
    "\n",
    "Display DEM Correction RMSE:\n",
    "\n",
    "<prep>\n",
    "``` python \n",
    "Image(filename='output_sb/pic/step_1_rmse_dem_correction_0th_iter.png')`\n",
    "```\n",
    "</prep>\n"
   ]
  },
  {
   "cell_type": "code",
   "execution_count": null,
   "metadata": {
    "editable": true,
    "slideshow": {
     "slide_type": ""
    },
    "tags": []
   },
   "outputs": [],
   "source": []
  },
  {
   "cell_type": "markdown",
   "metadata": {
    "editable": false,
    "id": "7pMyVDdGoeKo",
    "slideshow": {
     "slide_type": ""
    },
    "tags": []
   },
   "source": [
    "#### Step 2: Unwrapping"
   ]
  },
  {
   "cell_type": "markdown",
   "metadata": {
    "editable": false,
    "id": "JmRGolG5oeKo",
    "slideshow": {
     "slide_type": ""
    },
    "tags": []
   },
   "source": [
    "Run [**Step 2: Unwrapping**](https://sarvey.readthedocs.io/main/processing.html#step-2-unwrapping). Step 2 supports two types of unwrapping based on the parameter `general:apply_temporal_unwrapping`"
   ]
  },
  {
   "cell_type": "markdown",
   "metadata": {
    "editable": false,
    "slideshow": {
     "slide_type": ""
    },
    "tags": []
   },
   "source": [
    "For **unwrapping in space**, the following are perfomed:\n",
    "- Spatial unwrapping\n",
    "- Adjust reference\n",
    "- Inverting the interferogram network\n"
   ]
  },
  {
   "cell_type": "markdown",
   "metadata": {
    "editable": false,
    "slideshow": {
     "slide_type": ""
    },
    "tags": []
   },
   "source": [
    "<img src=\"https://raw.githubusercontent.com/luhipi/sarvey-tutorials/main/notebooks/SARvey_tutorial_01/pics/spatial_unwrapping.svg\" width=\"512\">"
   ]
  },
  {
   "cell_type": "markdown",
   "metadata": {
    "editable": false,
    "slideshow": {
     "slide_type": ""
    },
    "tags": []
   },
   "source": [
    "For **unwrapping in time and space**, the following are performed:\n",
    "\n",
    "- Integrating parameters from arcs to points\n",
    "- Removing phase contributions (mean velocity and DEM correction)\n",
    "- Spatial unwrapping of the residuals\n",
    "- Restore phase contributions to the spatially unwrapped residual phase\n",
    "- Adjust reference\n",
    "- Inverting the interferogram network\n"
   ]
  },
  {
   "cell_type": "markdown",
   "metadata": {
    "editable": false,
    "slideshow": {
     "slide_type": ""
    },
    "tags": []
   },
   "source": [
    "<img src=\"https://raw.githubusercontent.com/luhipi/sarvey-tutorials/main/notebooks/SARvey_tutorial_01/pics/temporal+spatial_unwrapping.svg\" width=\"512\">"
   ]
  },
  {
   "cell_type": "markdown",
   "metadata": {
    "editable": false,
    "id": "pPB82FvAoeKo",
    "slideshow": {
     "slide_type": ""
    },
    "tags": []
   },
   "source": [
    "You can check the parameters step 2 in the config file using the following commands:\n",
    "\n",
    "Check the relevant general config:\n",
    "<prep>\n",
    "``` python\n",
    "os.chdir(project_dir)\n",
    "config = loadJsonConfig('config.json')\n",
    "config['general']['apply_temporal_unwrapping']\n",
    "```\n",
    "</prep>\n",
    "\n",
    "Check the parameters specific to step 2:\n",
    "<prep>\n",
    "``` python\n",
    "os.chdir(project_dir)\n",
    "config = loadJsonConfig('config.json')\n",
    "config['unwrapping']\n",
    "```\n",
    "</prep>"
   ]
  },
  {
   "cell_type": "code",
   "execution_count": null,
   "metadata": {
    "editable": true,
    "slideshow": {
     "slide_type": ""
    },
    "tags": []
   },
   "outputs": [],
   "source": []
  },
  {
   "cell_type": "markdown",
   "metadata": {
    "editable": false,
    "id": "8plBBDw1oeKo",
    "slideshow": {
     "slide_type": ""
    },
    "tags": []
   },
   "source": [
    "We do not change any parameters and run step 2 using the following commands:"
   ]
  },
  {
   "cell_type": "code",
   "execution_count": null,
   "metadata": {
    "editable": false,
    "slideshow": {
     "slide_type": ""
    },
    "tags": []
   },
   "outputs": [],
   "source": [
    "os.chdir(project_dir)\n",
    "\n",
    "! sarvey -f config.json 2 2"
   ]
  },
  {
   "cell_type": "markdown",
   "metadata": {
    "editable": false,
    "id": "ICWFcG9OoeKo",
    "slideshow": {
     "slide_type": ""
    },
    "tags": []
   },
   "source": [
    "Typical output of this step are\n",
    "- p1_ifg_unw.h5\n",
    "- p1_ifg_ts.h5\n",
    "\n",
    "Also, some snapshots are created in `pic` directory."
   ]
  },
  {
   "cell_type": "markdown",
   "metadata": {
    "editable": false,
    "id": "q3_rYnVuoeKo",
    "slideshow": {
     "slide_type": ""
    },
    "tags": []
   },
   "source": [
    "We can now check the list output files with `! tree` and then visualize the outputs using the following commands:\n",
    "\n",
    "Display Estimated Dem Correction:\n",
    "\n",
    "<prep>\n",
    "``` python\n",
    "Image(filename='output_sb/pic/step_2_estimation_dem_correction.png')\n",
    "```\n",
    "</prep>\n",
    "\n",
    "Display Estimated Velocity:\n",
    "\n",
    "<prep>\n",
    "``` python\n",
    "Image(filename='output_sb/pic/step_2_estimation_velocity.png')\n",
    "```\n",
    "</prep>"
   ]
  },
  {
   "cell_type": "code",
   "execution_count": null,
   "metadata": {
    "editable": true,
    "id": "3NdYMvt_oeKo",
    "slideshow": {
     "slide_type": ""
    },
    "tags": []
   },
   "outputs": [],
   "source": []
  },
  {
   "cell_type": "code",
   "execution_count": null,
   "metadata": {
    "editable": true,
    "slideshow": {
     "slide_type": ""
    },
    "tags": []
   },
   "outputs": [],
   "source": []
  },
  {
   "cell_type": "markdown",
   "metadata": {
    "editable": false,
    "id": "vYY4Hv5noeKo",
    "slideshow": {
     "slide_type": ""
    },
    "tags": []
   },
   "source": [
    "#### Step 3: Filtering"
   ]
  },
  {
   "cell_type": "markdown",
   "metadata": {
    "editable": false,
    "id": "Hn6Ws64OoeKp",
    "slideshow": {
     "slide_type": ""
    },
    "tags": []
   },
   "source": [
    "Run [**Step 3: Filtering**](https://sarvey.readthedocs.io/main/processing.html#step-3-filtering) including the following.\n",
    "\n",
    "- Selecting pixels with no or linear displacement\n",
    "- Selecting second-order points\n",
    "- Estimating the atmospheric phase screen (APS)"
   ]
  },
  {
   "cell_type": "markdown",
   "metadata": {
    "editable": false,
    "id": "IOj951-zoeKp",
    "slideshow": {
     "slide_type": ""
    },
    "tags": []
   },
   "source": [
    "First check the parameters step 3 in the config file using the following commands:\n",
    "\n",
    "<prep>\n",
    "``` python\n",
    "os.chdir(project_dir)\n",
    "config = loadJsonConfig('config.json')\n",
    "config['filtering']\n",
    "```\n",
    "</prep>"
   ]
  },
  {
   "cell_type": "code",
   "execution_count": null,
   "metadata": {
    "editable": true,
    "id": "jFYj4tVOoeKp",
    "slideshow": {
     "slide_type": ""
    },
    "tags": []
   },
   "outputs": [],
   "source": []
  },
  {
   "cell_type": "markdown",
   "metadata": {
    "editable": false,
    "id": "XNL2nI5foeKp",
    "slideshow": {
     "slide_type": ""
    },
    "tags": []
   },
   "source": [
    "We do not change any parameters and run step 3."
   ]
  },
  {
   "cell_type": "code",
   "execution_count": null,
   "metadata": {
    "editable": false,
    "id": "56Bl8h1BoeKp",
    "slideshow": {
     "slide_type": ""
    },
    "tags": []
   },
   "outputs": [],
   "source": [
    "os.chdir(project_dir)\n",
    "\n",
    "! sarvey -f config.json 3 3"
   ]
  },
  {
   "cell_type": "markdown",
   "metadata": {
    "editable": false,
    "id": "H4kQpHdtoeKp",
    "slideshow": {
     "slide_type": ""
    },
    "tags": []
   },
   "source": [
    "A regular grid (`filtering:grid_size` in [m]) is applied to select the first-order points with the lowest temporal autocorrelation to reduce the computational complexity during filtering. As the area is relatively small, the following warning may appear indicating that too little pixels were selected for atmospheric estimation.\n",
    "\n",
    "> ```WARNING - Only 2 points for APS filtering selected. Filtering results are probably not reliable. You can e.g. increase 'max_auto_corr' or try to increase the number of first-order points during step 1 and 2.```\n"
   ]
  },
  {
   "cell_type": "markdown",
   "metadata": {
    "editable": false,
    "id": "PQ3wcfFaoeKp",
    "slideshow": {
     "slide_type": ""
    },
    "tags": []
   },
   "source": [
    "Let’s first examine the snapshots to better understand how the points selected for atmospheric estimation are distributed.\n"
   ]
  },
  {
   "cell_type": "code",
   "execution_count": null,
   "metadata": {
    "editable": false,
    "id": "Zaj5tFVdoeKp",
    "slideshow": {
     "slide_type": ""
    },
    "tags": []
   },
   "outputs": [],
   "source": [
    "# Display Temporal Autocorrelation\n",
    "Image(filename='output_sb/pic/step_3_temporal_autocorrelation.png')\n"
   ]
  },
  {
   "cell_type": "code",
   "execution_count": null,
   "metadata": {
    "editable": false,
    "id": "6cq4AFKAoeKp",
    "slideshow": {
     "slide_type": ""
    },
    "tags": []
   },
   "outputs": [],
   "source": [
    "# Display Selected Points for APS Estimation\n",
    "Image(filename='output_sb/pic/step_3_stable_points.png')\n"
   ]
  },
  {
   "cell_type": "markdown",
   "metadata": {
    "editable": false,
    "id": "e3wvZ10uoeKp",
    "slideshow": {
     "slide_type": ""
    },
    "tags": []
   },
   "source": [
    "To address this issue, we should carefully modify parameters of step 1 or 2 to increase the number of reliable first-order points and ensure a uniform distribution of them. However, given the small size of the area, we choose to skip atmospheric filtering for now.\n"
   ]
  },
  {
   "cell_type": "code",
   "execution_count": null,
   "metadata": {
    "editable": false,
    "id": "N06midkRoeKp",
    "slideshow": {
     "slide_type": ""
    },
    "tags": []
   },
   "outputs": [],
   "source": [
    "os.chdir(project_dir)\n",
    "\n",
    "# Load the configs\n",
    "config = loadJsonConfig('config.json')\n",
    "\n",
    "# Modify parameter\n",
    "config['filtering']['apply_aps_filtering'] = False\n",
    "\n",
    "dumpToJsonConfig('config.json', config)"
   ]
  },
  {
   "cell_type": "markdown",
   "metadata": {
    "editable": false,
    "id": "eXCCwrs-oeKp",
    "slideshow": {
     "slide_type": ""
    },
    "tags": []
   },
   "source": [
    "Let's also examine the snapshots to see how well the second-order points are distributed."
   ]
  },
  {
   "cell_type": "code",
   "execution_count": null,
   "metadata": {
    "editable": false,
    "id": "k6yG5xQaoeKp",
    "slideshow": {
     "slide_type": ""
    },
    "tags": []
   },
   "outputs": [],
   "source": [
    "# Display Selected Second Order Points\n",
    "Image(filename='output_sb/pic/step_3_mask_p2_coh80.png')\n"
   ]
  },
  {
   "cell_type": "markdown",
   "metadata": {
    "editable": false,
    "id": "-extW5x3oeKp",
    "slideshow": {
     "slide_type": ""
    },
    "tags": []
   },
   "source": [
    "We can slightly and carefully reduce the `filtering:coherence_p2` threshold to select more second-order points."
   ]
  },
  {
   "cell_type": "code",
   "execution_count": null,
   "metadata": {
    "editable": false,
    "id": "FoijktzooeKp",
    "slideshow": {
     "slide_type": ""
    },
    "tags": []
   },
   "outputs": [],
   "source": [
    "os.chdir(project_dir)\n",
    "\n",
    "# Load the configs\n",
    "config = loadJsonConfig('config.json')\n",
    "\n",
    "# Modify parameter\n",
    "config['filtering']['coherence_p2'] = 0.6\n",
    "\n",
    "dumpToJsonConfig('config.json', config)"
   ]
  },
  {
   "cell_type": "markdown",
   "metadata": {
    "editable": false,
    "id": "XJl5twdhoeKp",
    "slideshow": {
     "slide_type": ""
    },
    "tags": []
   },
   "source": [
    "Then we rerun step 3"
   ]
  },
  {
   "cell_type": "code",
   "execution_count": null,
   "metadata": {
    "editable": false,
    "id": "iFZRe2ykoeKq",
    "slideshow": {
     "slide_type": ""
    },
    "tags": []
   },
   "outputs": [],
   "source": [
    "os.chdir(project_dir)\n",
    "\n",
    "! sarvey -f config.json 3 3"
   ]
  },
  {
   "cell_type": "markdown",
   "metadata": {
    "editable": false,
    "id": "lX-YD3ALoeKq",
    "slideshow": {
     "slide_type": ""
    },
    "tags": []
   },
   "source": [
    "Typical output of this step are\n",
    "- p1_ts_filt.h5\n",
    "- p1_aps.h5\n",
    "- p2_cohXX_aps.h5\n",
    "- p2_cohXX_ifg_wr.h5\n",
    "\n",
    "Also, some snapshots are created in `pic` directory."
   ]
  },
  {
   "cell_type": "markdown",
   "metadata": {
    "editable": false,
    "id": "E7VFrtOzoeKq",
    "slideshow": {
     "slide_type": ""
    },
    "tags": []
   },
   "source": [
    "We can now check the list output files with `! tree`"
   ]
  },
  {
   "cell_type": "code",
   "execution_count": null,
   "metadata": {
    "editable": true,
    "id": "bqVOQJfloeKq",
    "slideshow": {
     "slide_type": ""
    },
    "tags": []
   },
   "outputs": [],
   "source": []
  },
  {
   "cell_type": "markdown",
   "metadata": {
    "editable": false,
    "id": "A4t9WHF2oeKq",
    "slideshow": {
     "slide_type": ""
    },
    "tags": []
   },
   "source": [
    "We can also check the selected second order points with `filtering:coherence_p2 = 0.6`.\n",
    "\n",
    "Display Selected Second Order Points:\n",
    "<prep>\n",
    "``` python\n",
    "Image(filename='output_sb/pic/step_3_mask_p2_coh60.png')\n",
    "```\n",
    "</prep>"
   ]
  },
  {
   "cell_type": "code",
   "execution_count": null,
   "metadata": {
    "editable": true,
    "id": "IkOBmE8hoeKq",
    "slideshow": {
     "slide_type": ""
    },
    "tags": []
   },
   "outputs": [],
   "source": []
  },
  {
   "cell_type": "markdown",
   "metadata": {
    "editable": false,
    "id": "stCmCpcfoeKq",
    "slideshow": {
     "slide_type": ""
    },
    "tags": []
   },
   "source": [
    "#### Step 4: Densification"
   ]
  },
  {
   "cell_type": "markdown",
   "metadata": {
    "editable": false,
    "id": "wqh7ozqXoeKq",
    "slideshow": {
     "slide_type": ""
    },
    "tags": []
   },
   "source": [
    "Run [**Step 4: Densification**](https://sarvey.readthedocs.io/main/processing.html#step-4-densification). Step 4 supports two types of unwrapping based on the parameter general:apply_temporal_unwrapping including the following.\n",
    "\n",
    "For **unwrapping in time and space**, the following are performed:\n",
    "\n",
    "- Removing APS from interferograms\n",
    "- Densify network\n",
    "- Remove outliers\n",
    "- Removing phase contributions (mean velocity and DEM error)\n",
    "- Spatial unwrapping of the residuals\n",
    "- Restore phase contributions to the spatially unwrapped residual phase\n",
    "- Adjust reference\n",
    "- Inverting the interferogram network\n",
    "\n",
    "For **unwrapping in space**, the following are perfomed:\n",
    "- Remove APS from interferograms\n",
    "- Spatial unwrapping\n",
    "- Adjust reference\n",
    "- Inverting the interferogram network\n"
   ]
  },
  {
   "cell_type": "markdown",
   "metadata": {
    "editable": false,
    "id": "IYuNWH9YoeKq",
    "slideshow": {
     "slide_type": ""
    },
    "tags": []
   },
   "source": [
    "First check the parameters step 4 in the config file using the following commands:\n",
    "\n",
    "<prep>\n",
    "``` python\n",
    "os.chdir(project_dir)\n",
    "\n",
    "# Load the configs\n",
    "config = loadJsonConfig('config.json')\n",
    "config['densification']\n",
    "```\n",
    "</prep>"
   ]
  },
  {
   "cell_type": "code",
   "execution_count": null,
   "metadata": {
    "editable": true,
    "id": "DNjj1APwoeKq",
    "slideshow": {
     "slide_type": ""
    },
    "tags": []
   },
   "outputs": [],
   "source": []
  },
  {
   "cell_type": "markdown",
   "metadata": {
    "editable": false,
    "id": "INOM621boeKq",
    "slideshow": {
     "slide_type": ""
    },
    "tags": []
   },
   "source": [
    "We do not change any parameters and run step 4."
   ]
  },
  {
   "cell_type": "code",
   "execution_count": null,
   "metadata": {
    "editable": false,
    "id": "AfwvishkoeKq",
    "slideshow": {
     "slide_type": ""
    },
    "tags": []
   },
   "outputs": [],
   "source": [
    "os.chdir(project_dir)\n",
    "\n",
    "! sarvey -f config.json 4 4"
   ]
  },
  {
   "cell_type": "markdown",
   "metadata": {
    "editable": false,
    "id": "71LKcfQCoeKq",
    "slideshow": {
     "slide_type": ""
    },
    "tags": []
   },
   "source": [
    "Typical output of this step are\n",
    "- p2_cohXX_ifg_unw.h5\n",
    "- p2_cohXX_ts.h5\n",
    "\n",
    "Also, some snapshots are created in `pic` directory. \n",
    "\n",
    "Display Estimated Velocities:\n",
    "<prep>\n",
    "``` python\n",
    "Image(filename='output_sb/pic/step_4_estimation_velocity_p2_coh60.png')\n",
    "```\n",
    "</prep>\n"
   ]
  },
  {
   "cell_type": "code",
   "execution_count": null,
   "metadata": {
    "editable": true,
    "id": "7wLUap12oeKq",
    "slideshow": {
     "slide_type": ""
    },
    "tags": []
   },
   "outputs": [],
   "source": []
  },
  {
   "cell_type": "markdown",
   "metadata": {
    "editable": false,
    "id": "kjafcHVsoeKq",
    "slideshow": {
     "slide_type": ""
    },
    "tags": []
   },
   "source": [
    "### Export to InSAR Explorer"
   ]
  },
  {
   "cell_type": "markdown",
   "metadata": {
    "editable": false,
    "id": "dShuA-zyoeKq",
    "slideshow": {
     "slide_type": ""
    },
    "tags": []
   },
   "source": [
    "After completing the SARvey processing (Steps 0 to 4), you can display the results using `sarvey_plot`, or export them as a GeoPackage using `sarvey_export` for visualization and analysis in QGIS. Here, we will export the results."
   ]
  },
  {
   "cell_type": "code",
   "execution_count": null,
   "metadata": {
    "editable": false,
    "id": "YSVV4PFGoeKr",
    "slideshow": {
     "slide_type": ""
    },
    "tags": []
   },
   "outputs": [],
   "source": [
    "os.chdir(project_dir)\n",
    "\n",
    "! sarvey_export output_sb/p2_coh60_ts.h5 -g -o output_sb/masjed_dam_sb_coh60.gpkg\n"
   ]
  },
  {
   "cell_type": "markdown",
   "metadata": {
    "editable": false,
    "id": "wr5eQMRwoeKr",
    "slideshow": {
     "slide_type": ""
    },
    "tags": []
   },
   "source": [
    "Download the exported `gpkg` file if you are processing on Google Colab. Now you can open the output file in QGIS and display the velocity and time series using [InSAR Explorer](https://insar-explorer.readthedocs.io/en/latest/)."
   ]
  },
  {
   "cell_type": "markdown",
   "metadata": {
    "editable": false,
    "slideshow": {
     "slide_type": ""
    },
    "tags": []
   },
   "source": [
    "<img src=\"https://seafile.projekt.uni-hannover.de/f/d8a003cb32f64961abfc/?dl=1\" width=\"512\">\n"
   ]
  },
  {
   "cell_type": "markdown",
   "metadata": {
    "editable": false,
    "slideshow": {
     "slide_type": ""
    },
    "tags": []
   },
   "source": [
    "1. Open QGIS.\n",
    "2. From the `Plugins` menu, select `Manage and Install Plugins`.\n",
    "3. In the search bar, type `InSAR Explorer` and install it.\n",
    "4. The plugin's icon will be added to the toolbar, or you can access it from the `Plugins` menu.\n",
    "5. Open the `.gpkg` file by dragging and dropping it into QGIS.\n",
    "6. Open the `InSAR Explorer` plugin.\n",
    "7. In the `Map` menu, you can set the visualization parameters.\n",
    "8. In the `Time series` tab, you can select points on the map to plot their time series.\n"
   ]
  },
  {
   "cell_type": "markdown",
   "metadata": {
    "editable": false,
    "id": "sTNuPywooeKr",
    "slideshow": {
     "slide_type": ""
    },
    "tags": []
   },
   "source": [
    "### Adapting the processing"
   ]
  },
  {
   "cell_type": "markdown",
   "metadata": {
    "editable": false,
    "id": "msnTKTjmoeKr",
    "slideshow": {
     "slide_type": ""
    },
    "tags": []
   },
   "source": [
    "In this tutorial, we have only modified a few parameters. However, many more parameters can be adjusted during processing to better suit specific applications. Please refer to the [documentation](https://sarvey.readthedocs.io/main/processing.html#configuration-file) for detailed explanations of these parameters and how to modify them.\n",
    "\n",
    "As a relevant example to this tutorial, in Step 0 of the processing, we used the default `small baseline (sb)` network. In this particular case, the dam undergoes rapid deformation, which may cause temporal decorrelation in interferograms with temporal baselines spanning several months, particularly on the crest of the dam. A more appropriate choice would be the `small temporal baseline (stb)` network, which connects each image to the `num_ifgs` nearest images, preserving temporal coherence.\n",
    "\n",
    "Additionally, you can reduce the `coherence_p2` threshold in Step 3 to increase the density of second-order points. However, please note that lowering this threshold will also introduce more noise into the processing. Therefore, it should be done with caution.\n"
   ]
  }
 ],
 "metadata": {
  "colab": {
   "include_colab_link": true,
   "provenance": []
  },
  "kernelspec": {
   "display_name": "Python 3 (ipykernel)",
   "language": "python",
   "name": "python3"
  },
  "language_info": {
   "codemirror_mode": {
    "name": "ipython",
    "version": 3
   },
   "file_extension": ".py",
   "mimetype": "text/x-python",
   "name": "python",
   "nbconvert_exporter": "python",
   "pygments_lexer": "ipython3",
   "version": "3.11.12"
  }
 },
 "nbformat": 4,
 "nbformat_minor": 4
}
